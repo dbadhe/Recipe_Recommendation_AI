{
 "cells": [
  {
   "cell_type": "markdown",
   "metadata": {},
   "source": [
    "# Recipe Data Loading, Cleaning, and Feature Engineering"
   ]
  },
  {
   "cell_type": "code",
   "execution_count": null,
   "metadata": {
    "cell_id": "0dafafb42bca4a0c92818e60eaeea39e",
    "deepnote_cell_type": "code",
    "deepnote_to_be_reexecuted": false,
    "execution_millis": 8814,
    "execution_start": 1710461450873,
    "source_hash": null
   },
   "outputs": [
    {
     "name": "stderr",
     "output_type": "stream",
     "text": [
      "/shared-libs/python3.9/py/lib/python3.9/site-packages/tqdm/auto.py:22: TqdmWarning: IProgress not found. Please update jupyter and ipywidgets. See https://ipywidgets.readthedocs.io/en/stable/user_install.html\n",
      "  from .autonotebook import tqdm as notebook_tqdm\n",
      "2024-03-15 00:10:51.983593: I tensorflow/core/platform/cpu_feature_guard.cc:193] This TensorFlow binary is optimized with oneAPI Deep Neural Network Library (oneDNN) to use the following CPU instructions in performance-critical operations:  AVX2 FMA\n",
      "To enable them in other operations, rebuild TensorFlow with the appropriate compiler flags.\n",
      "2024-03-15 00:10:52.292670: W tensorflow/stream_executor/platform/default/dso_loader.cc:64] Could not load dynamic library 'libcudart.so.11.0'; dlerror: libcudart.so.11.0: cannot open shared object file: No such file or directory\n",
      "2024-03-15 00:10:52.292705: I tensorflow/stream_executor/cuda/cudart_stub.cc:29] Ignore above cudart dlerror if you do not have a GPU set up on your machine.\n",
      "2024-03-15 00:10:52.367581: E tensorflow/stream_executor/cuda/cuda_blas.cc:2981] Unable to register cuBLAS factory: Attempting to register factory for plugin cuBLAS when one has already been registered\n",
      "2024-03-15 00:10:53.691855: W tensorflow/stream_executor/platform/default/dso_loader.cc:64] Could not load dynamic library 'libnvinfer.so.7'; dlerror: libnvinfer.so.7: cannot open shared object file: No such file or directory\n",
      "2024-03-15 00:10:53.691943: W tensorflow/stream_executor/platform/default/dso_loader.cc:64] Could not load dynamic library 'libnvinfer_plugin.so.7'; dlerror: libnvinfer_plugin.so.7: cannot open shared object file: No such file or directory\n",
      "2024-03-15 00:10:53.691953: W tensorflow/compiler/tf2tensorrt/utils/py_utils.cc:38] TF-TRT Warning: Cannot dlopen some TensorRT libraries. If you would like to use Nvidia GPU with TensorRT, please make sure the missing libraries mentioned above are installed properly.\n",
      "2024-03-15 00:10:55.376593: W tensorflow/stream_executor/platform/default/dso_loader.cc:64] Could not load dynamic library 'libcuda.so.1'; dlerror: libcuda.so.1: cannot open shared object file: No such file or directory\n",
      "2024-03-15 00:10:55.376633: W tensorflow/stream_executor/cuda/cuda_driver.cc:263] failed call to cuInit: UNKNOWN ERROR (303)\n",
      "2024-03-15 00:10:55.376660: I tensorflow/stream_executor/cuda/cuda_diagnostics.cc:156] kernel driver does not appear to be running on this host (p-5cb9474c-6462-4da0-a2dd-0ed9f5cafe8e): /proc/driver/nvidia/version does not exist\n",
      "[nltk_data] Downloading package stopwords to /root/nltk_data...\n",
      "[nltk_data]   Unzipping corpora/stopwords.zip.\n"
     ]
    }
   ],
   "source": [
    "# Standard imports\n",
    "import json\n",
    "import os\n",
    "from os import path\n",
    "import pathlib\n",
    "import pickle\n",
    "import platform\n",
    "import string\n",
    "import time\n",
    "import zipfile\n",
    "\n",
    "#Other models\n",
    "import gensim\n",
    "from gensim.models import Word2Vec\n",
    "import matplotlib.pyplot as plt\n",
    "import nltk\n",
    "import numpy as np\n",
    "import pandas as pd\n",
    "import seaborn as sns\n",
    "import spacy\n",
    "import tabulate\n",
    "import tensorflow as tf\n",
    "from textblob import TextBlob\n",
    "import torch\n",
    "from transformers import (\n",
    "    pipeline,\n",
    "    AutoTokenizer,\n",
    "    AutoModelForCausalLM,\n",
    "    AutoModelForQuestionAnswering\n",
    ")\n",
    "\n",
    "# Scikit-learn imports\n",
    "from sklearn.feature_extraction.text import CountVectorizer, TfidfVectorizer\n",
    "from sklearn.linear_model import LogisticRegression\n",
    "from sklearn.metrics import (\n",
    "    confusion_matrix,\n",
    "    precision_score,\n",
    "    precision_recall_curve,\n",
    "    recall_score,\n",
    "    f1_score,\n",
    "    accuracy_score,\n",
    "    cosine_similarity\n",
    ")\n",
    "from sklearn.naive_bayes import MultinomialNB\n",
    "\n",
    "# NLTK specific setup (often done once)\n",
    "nltk.download('stopwords')\n",
    "from nltk.corpus import stopwords\n",
    "\n",
    "# from vaderSentiment.vaderSentiment import SentimentIntensityAnalyzer\n"
   ]
  },
  {
   "cell_type": "markdown",
   "metadata": {
    "cell_id": "1a768d6513184ed3bec028ca7a3af95c",
    "deepnote_cell_type": "text-cell-h2",
    "formattedRanges": []
   },
   "source": [
    "## 2. Load Raw Data\n",
    "\n",
    "Loading the raw recipe data. The data is spread across multiple JSON files (`recipes_raw_nosource_*.json`). We will read each file and concatenate them into a single Pandas DataFrame.\n",
    "\n",
    "The dataset used for this project is provided by eightportion. It has a collection of 125,000 recipes with over 40% containing images. \n"
   ]
  },
  {
   "cell_type": "code",
   "execution_count": null,
   "metadata": {
    "cell_id": "ca04579a9e4f4b89bdcc74eecabecbfa",
    "deepnote_cell_type": "code",
    "deepnote_to_be_reexecuted": false,
    "execution_millis": 61317,
    "execution_start": 1710461459693,
    "source_hash": null
   },
   "outputs": [],
   "source": [
    "# Read the JSON file into a DataFrame\n",
    "df1_transposed = pd.read_json(\"recipes_raw_nosource_ar.json\")\n",
    "df2_transposed = pd.read_json(\"recipes_raw_nosource_epi.json\")\n",
    "df3_transposed = pd.read_json(\"recipes_raw_nosource_fn.json\")\n",
    "\n",
    "#Transposing the Dataframe\n",
    "df1 = df1_transposed.transpose()\n",
    "df2 = df2_transposed.transpose()\n",
    "df3 = df3_transposed.transpose()"
   ]
  },
  {
   "cell_type": "code",
   "execution_count": null,
   "metadata": {
    "cell_id": "a4f02aa65ade4ff98062b53ce448cc91",
    "deepnote_cell_type": "code",
    "deepnote_to_be_reexecuted": false,
    "execution_millis": 13258,
    "execution_start": 1710461521076,
    "source_hash": null
   },
   "outputs": [],
   "source": [
    "#Adding titles to the file \n",
    "standard_order = ['title', 'ingredients','instructions', 'picture_link']\n",
    "\n",
    "df1 = df1[standard_order]\n",
    "df2 = df2[standard_order]\n",
    "df3 = df3[standard_order]\n",
    "\n",
    "#Creating a single dataset out of all recipes \n",
    "recipe_data = pd.concat([df1, df2, df3], ignore_index=True)\n",
    "\n",
    "recipe_data.to_csv('recipe_data.csv')\n"
   ]
  },
  {
   "cell_type": "markdown",
   "metadata": {
    "cell_id": "4262b3ce0f344d4a80c3defc42b4e716",
    "deepnote_cell_type": "text-cell-h2",
    "formattedRanges": []
   },
   "source": [
    "## 3. Initial Data Exploration\n",
    "\n",
    "Performing a preliminary check on the loaded data to understand its structure, size, data types, and identify any immediate issues like missing values."
   ]
  },
  {
   "cell_type": "code",
   "execution_count": null,
   "metadata": {
    "cell_id": "0ed3d734ebe64218a67e01fcdcc5318b",
    "deepnote_cell_type": "code",
    "deepnote_to_be_reexecuted": false,
    "execution_millis": 102,
    "execution_start": 1710461534339,
    "source_hash": null
   },
   "outputs": [
    {
     "name": "stdout",
     "output_type": "stream",
     "text": [
      "The shape of the recipe dataset is: (125164, 4)\n"
     ]
    }
   ],
   "source": [
    "# Shape of the data\n",
    "print('The shape of the recipe dataset is:', recipe_data.shape)"
   ]
  },
  {
   "cell_type": "code",
   "execution_count": null,
   "metadata": {
    "cell_id": "c7c394124e3f49a6951c6d9d529ad2db",
    "deepnote_cell_type": "code",
    "deepnote_to_be_reexecuted": false,
    "execution_millis": 95,
    "execution_start": 1710461534482,
    "source_hash": null
   },
   "outputs": [
    {
     "data": {
      "text/plain": [
       "title             569\n",
       "ingredients       517\n",
       "instructions      691\n",
       "picture_link    42571\n",
       "dtype: int64"
      ]
     },
     "execution_count": 5,
     "metadata": {},
     "output_type": "execute_result"
    }
   ],
   "source": [
    "#Checking null values \n",
    "recipe_data.isna().sum()\n"
   ]
  },
  {
   "cell_type": "code",
   "execution_count": null,
   "metadata": {
    "cell_id": "745b5be2eb5749c58e1d5e250058a6f6",
    "deepnote_cell_type": "code",
    "deepnote_to_be_reexecuted": false,
    "execution_millis": 161,
    "execution_start": 1710461534612,
    "source_hash": null
   },
   "outputs": [
    {
     "name": "stdout",
     "output_type": "stream",
     "text": [
      "The shape of the recipe dataset is: (124473, 3)\n"
     ]
    },
    {
     "data": {
      "text/plain": [
       "title           0\n",
       "ingredients     0\n",
       "instructions    0\n",
       "dtype: int64"
      ]
     },
     "execution_count": 6,
     "metadata": {},
     "output_type": "execute_result"
    }
   ],
   "source": [
    "#dropping pictures link and the ones with null instructuions \n",
    "recipe_f = recipe_data.dropna(subset=['instructions'])\n",
    "\n",
    "#Dropping the picture links \n",
    "recipe_f = recipe_f.drop(columns=['picture_link'])\n",
    "\n",
    "#checking the shape and the null values \n",
    "print('The shape of the recipe dataset is:', recipe_f.shape)\n",
    "recipe_f.isna().sum()"
   ]
  },
  {
   "cell_type": "markdown",
   "metadata": {
    "cell_id": "bba0e4dd7baf43e6bd254f8ee5297c7b",
    "deepnote_cell_type": "text-cell-p",
    "formattedRanges": []
   },
   "source": [
    "## 4. Data Cleaning\n",
    "\n",
    "This section focuses on cleaning the dataset to make it suitable for analysis and modeling. So now, we have a final dataset of 124,473 recipes and with no null values. For the next step, we will perform data cleaning "
   ]
  },
  {
   "cell_type": "markdown",
   "metadata": {
    "cell_id": "e9921415d36c4ca2bc903bbb105597c6",
    "deepnote_cell_type": "text-cell-bullet",
    "formattedRanges": []
   },
   "source": [
    "- Checking if all the recipes have relevant content in them "
   ]
  },
  {
   "cell_type": "markdown",
   "metadata": {
    "cell_id": "68c8f94bd44347efade58d36c3358573",
    "deepnote_cell_type": "text-cell-bullet",
    "formattedRanges": []
   },
   "source": [
    "- Removing irrelevant content from the recipes, name and instructions "
   ]
  },
  {
   "cell_type": "code",
   "execution_count": null,
   "metadata": {
    "cell_id": "62b40500b8fb409f89f27486fc8d7e49",
    "deepnote_cell_type": "code",
    "deepnote_to_be_reexecuted": false,
    "execution_millis": 237,
    "execution_start": 1710461534832,
    "source_hash": null
   },
   "outputs": [
    {
     "data": {
      "application/vnd.deepnote.dataframe.v3+json": {
       "column_count": 3,
       "columns": [
        {
         "dtype": "object",
         "name": "title",
         "stats": {
          "categories": [
           {
            "count": 1,
            "name": "Slow Cooker Chicken and Dumplings"
           },
           {
            "count": 1,
            "name": "Awesome Slow Cooker Pot Roast"
           },
           {
            "count": 48,
            "name": "48 others"
           }
          ],
          "nan_count": 0,
          "unique_count": 50
         }
        },
        {
         "dtype": "object",
         "name": "ingredients",
         "stats": {
          "categories": [
           {
            "count": 1,
            "name": "['4 skinless, boneless chicken breast halves ADVERTISEMENT', '2 tablespoons butter ADVERTISEMENT', '2 (10.75 ounce) cans condensed cream of chicken soup ADVERTISEMENT', '1 onion, finely diced ADVERTISEMENT', '2 (10 ounce) packages refrigerated biscuit dough, torn into pieces ADVERTISEMENT', 'ADVERTISEMENT']"
           },
           {
            "count": 1,
            "name": "['2 (10.75 ounce) cans condensed cream of mushroom soup ADVERTISEMENT', '1 (1 ounce) package dry onion soup mix ADVERTISEMENT', '1 1/4 cups water ADVERTISEMENT', '5 1/2 pounds pot roast ADVERTISEMENT', 'ADVERTISEMENT']"
           },
           {
            "count": 48,
            "name": "48 others"
           }
          ],
          "nan_count": 0,
          "unique_count": 50
         }
        },
        {
         "dtype": "object",
         "name": "instructions",
         "stats": {
          "categories": [
           {
            "count": 1,
            "name": "Place the chicken, butter, soup, and onion in a slow cooker, and fill with enough water to cover.\nCover, and cook for 5 to 6 hours on High. About 30 minutes before serving, place the torn biscuit dough in the slow cooker. Cook until the dough is no longer raw in the center.\n"
           },
           {
            "count": 1,
            "name": "In a slow cooker, mix cream of mushroom soup, dry onion soup mix and water. Place pot roast in slow cooker and coat with soup mixture.\nCook on High setting for 3 to 4 hours, or on Low setting for 8 to 9 hours.\n"
           },
           {
            "count": 48,
            "name": "48 others"
           }
          ],
          "nan_count": 0,
          "unique_count": 50
         }
        },
        {
         "dtype": "int64",
         "name": "_deepnote_index_column"
        }
       ],
       "row_count": 50,
       "rows": [
        {
         "_deepnote_index_column": 0,
         "ingredients": "['4 skinless, boneless chicken breast halves ADVERTISEMENT', '2 tablespoons butter ADVERTISEMENT', '2 (10.75 ounce) cans condensed cream of chicken soup ADVERTISEMENT', '1 onion, finely diced ADVERTISEMENT', '2 (10 ounce) packages refrigerated biscuit dough, torn into pieces ADVERTISEMENT', 'ADVERTISEMENT']",
         "instructions": "Place the chicken, butter, soup, and onion in a slow cooker, and fill with enough water to cover.\nCover, and cook for 5 to 6 hours on High. About 30 minutes before serving, place the torn biscuit dough in the slow cooker. Cook until the dough is no longer raw in the center.\n",
         "title": "Slow Cooker Chicken and Dumplings"
        },
        {
         "_deepnote_index_column": 1,
         "ingredients": "['2 (10.75 ounce) cans condensed cream of mushroom soup ADVERTISEMENT', '1 (1 ounce) package dry onion soup mix ADVERTISEMENT', '1 1/4 cups water ADVERTISEMENT', '5 1/2 pounds pot roast ADVERTISEMENT', 'ADVERTISEMENT']",
         "instructions": "In a slow cooker, mix cream of mushroom soup, dry onion soup mix and water. Place pot roast in slow cooker and coat with soup mixture.\nCook on High setting for 3 to 4 hours, or on Low setting for 8 to 9 hours.\n",
         "title": "Awesome Slow Cooker Pot Roast"
        },
        {
         "_deepnote_index_column": 2,
         "ingredients": "['1/2 cup packed brown sugar ADVERTISEMENT', '1/2 cup ketchup ADVERTISEMENT', '1 1/2 pounds lean ground beef ADVERTISEMENT', '3/4 cup milk ADVERTISEMENT', '2 eggs ADVERTISEMENT', '1 1/2 teaspoons salt ADVERTISEMENT', '1/4 teaspoon ground black pepper ADVERTISEMENT', '1 small onion, chopped ADVERTISEMENT', '1/4 teaspoon ground ginger ADVERTISEMENT', '3/4 cup finely crushed saltine cracker crumbs ADVERTISEMENT', 'ADVERTISEMENT']",
         "instructions": "Preheat oven to 350 degrees F (175 degrees C). Lightly grease a 5x9 inch loaf pan.\nPress the brown sugar in the bottom of the prepared loaf pan and spread the ketchup over the sugar.\nIn a mixing bowl, mix thoroughly all remaining ingredients and shape into a loaf. Place on top of the ketchup.\nBake in preheated oven for 1 hour or until juices are clear.\n",
         "title": "Brown Sugar Meatloaf"
        },
        {
         "_deepnote_index_column": 3,
         "ingredients": "['1 cup butter, softened ADVERTISEMENT', '1 cup white sugar ADVERTISEMENT', '1 cup packed brown sugar ADVERTISEMENT', '2 eggs ADVERTISEMENT', '2 teaspoons vanilla extract ADVERTISEMENT', '3 cups all-purpose flour ADVERTISEMENT', '1 teaspoon baking soda ADVERTISEMENT', '2 teaspoons hot water ADVERTISEMENT', '1/2 teaspoon salt ADVERTISEMENT', '2 cups semisweet chocolate chips ADVERTISEMENT', '1 cup chopped walnuts ADVERTISEMENT', 'ADVERTISEMENT']",
         "instructions": "Preheat oven to 350 degrees F (175 degrees C).\nCream together the butter, white sugar, and brown sugar until smooth. Beat in the eggs one at a time, then stir in the vanilla. Dissolve baking soda in hot water. Add to batter along with salt. Stir in flour, chocolate chips, and nuts. Drop by large spoonfuls onto ungreased pans.\nBake for about 10 minutes in the preheated oven, or until edges are nicely browned.\n",
         "title": "Best Chocolate Chip Cookies"
        },
        {
         "_deepnote_index_column": 4,
         "ingredients": "['8 ounces whole wheat rotini pasta ADVERTISEMENT', '3 cups fresh broccoli florets ADVERTISEMENT', '1 medium onion, chopped ADVERTISEMENT', '3 cloves garlic, minced ADVERTISEMENT', '4 tablespoons butter, divided ADVERTISEMENT', '2 tablespoons all-purpose flour ADVERTISEMENT', '1/4 teaspoon salt ADVERTISEMENT', '1/8 teaspoon ground black pepper ADVERTISEMENT', '2 1/2 cups milk ADVERTISEMENT', '8 ounces Cheddar cheese, shredded ADVERTISEMENT', '4 ounces reduced-fat cream cheese, cubed and softened ADVERTISEMENT', '1/2 cup fine dry Italian-seasoned bread crumbs ADVERTISEMENT', 'Reynolds Wrap® Non Stick Aluminum Foil ADVERTISEMENT', 'ADVERTISEMENT']",
         "instructions": "Preheat oven to 350 degrees F. Line a 2-quart casserole dish with Reynolds Wrap(R) Pan Lining Paper, parchment side up. No need to grease dish.\nCook the pasta in a large saucepan according to the package directions, adding the broccoli for the last 3 minutes of cooking. Drain. Return to the saucepan and set aside.\nCook the onion and garlic in 2 tablespoons hot butter in a large skillet 5 to 7 minutes or until tender. Stir in flour, salt, and black pepper. Add the milk all at once. Cook and stir over medium heat until slightly thickened and bubbly. Add cheddar cheese and cream cheese, stirring until melted. Pour cheese sauce over the pasta and broccoli and stir until well combined.\nMelt the remaining 2 tablespoons butter and mix with the bread crumbs in a small bowl. Transfer the pasta mixture to the prepared casserole dish. Top with the buttery bread crumbs.\nBake, uncovered, about 25 minutes or until bubbly and internal temperature is 165 degrees F. Let stand for 10 minutes before ser…",
         "title": "Homemade Mac and Cheese Casserole"
        },
        {
         "_deepnote_index_column": 5,
         "ingredients": "['2 cups all-purpose flour ADVERTISEMENT', '1 teaspoon baking soda ADVERTISEMENT', '1/4 teaspoon salt ADVERTISEMENT', '1/2 cup butter ADVERTISEMENT', '3/4 cup brown sugar ADVERTISEMENT', '2 eggs, beaten ADVERTISEMENT', '2 1/3 cups mashed overripe bananas ADVERTISEMENT', 'ADVERTISEMENT']",
         "instructions": "Preheat oven to 350 degrees F (175 degrees C). Lightly grease a 9x5 inch loaf pan.\nIn a large bowl, combine flour, baking soda and salt. In a separate bowl, cream together butter and brown sugar. Stir in eggs and mashed bananas until well blended. Stir banana mixture into flour mixture; stir just to moisten. Pour batter into prepared loaf pan.\nBake in preheated oven for 60 to 65 minutes, until a toothpick inserted into center of the loaf comes out clean. Let bread cool in pan for 10 minutes, then turn out onto a wire rack.\n",
         "title": "Banana Banana Bread"
        },
        {
         "_deepnote_index_column": 6,
         "ingredients": "['For potato crust: ADVERTISEMENT', '3 russet potatoes, peeled and cut into chunks ADVERTISEMENT', '3 tablespoons butter ADVERTISEMENT', '1 pinch freshly grated nutmeg ADVERTISEMENT', 'salt and ground black pepper to taste ADVERTISEMENT', '1 pinch cayenne pepper, or to taste ADVERTISEMENT', '1/2 cup milk ADVERTISEMENT', 'For the spinach: ADVERTISEMENT', '2 teaspoons olive oil ADVERTISEMENT', '12 ounces baby spinach leaves ADVERTISEMENT', 'For the sauce: ADVERTISEMENT', '3 tablespoons butter ADVERTISEMENT', '3 tablespoons all-purpose flour ADVERTISEMENT', '2 cloves garlic, minced ADVERTISEMENT', '2 cups cold milk, divided ADVERTISEMENT', '2 teaspoons lemon zest ADVERTISEMENT', 'For the rest: ADVERTISEMENT', '1 tablespoon butter ADVERTISEMENT', 'salt and ground black pepper to taste ADVERTISEMENT', '1 pinch cayenne pepper, or to taste ADVERTISEMENT', '2 pounds boneless cod fillets ADVERTISEMENT', '1/2 lemon, juiced ADVERTISEMENT', '1 tablespoon chopped fresh chives for garnish ADVERTISE…",
         "instructions": "Bring a large saucepan of salted water and to a boil; add russet potatoes to boiling water and cook until very tender, about 20 minutes. Drain well. Mash in 3 tablespoons butter until thoroughly combined. Season with nutmeg, salt, black pepper, and cayenne pepper to taste. Mash 1/2 cup milk into potato mixture until smooth.\nDrizzle olive oil in a large Dutch oven over medium-high heat, add spinach, and season with a big pinch of salt. Cook, stirring occasionally, until spinach has wilted, about 1 minute. Transfer to a bowl lined with paper towels to wick away excess moisture.\nHeat 3 tablespoons butter and flour in a saucepan over medium heat; whisk mixture to a smooth paste. Cook, stirring constantly, until mixture has a nutty smell and is slightly browned, about 2 minutes. Add chopped garlic; whisk until fragrant, 10 to 20 seconds.\nWhisk 1 cup cold milk into flour mixture; cook until thickened. Whisk in remaining 1 cup milk and lemon zest. Bring white sauce to a gentle simmer, whiski…",
         "title": "Chef John's Fisherman's Pie"
        },
        {
         "_deepnote_index_column": 7,
         "ingredients": "['3 cups all-purpose flour ADVERTISEMENT', '1 teaspoon salt ADVERTISEMENT', '1 teaspoon baking soda ADVERTISEMENT', '1 teaspoon baking powder ADVERTISEMENT', '1 tablespoon ground cinnamon ADVERTISEMENT', '3 eggs ADVERTISEMENT', '1 cup vegetable oil ADVERTISEMENT', '2 1/4 cups white sugar ADVERTISEMENT', '3 teaspoons vanilla extract ADVERTISEMENT', '2 cups grated zucchini ADVERTISEMENT', '1 cup chopped walnuts ADVERTISEMENT', 'ADVERTISEMENT']",
         "instructions": "Grease and flour two 8 x 4 inch pans. Preheat oven to 325 degrees F (165 degrees C).\nSift flour, salt, baking powder, soda, and cinnamon together in a bowl.\nBeat eggs, oil, vanilla, and sugar together in a large bowl. Add sifted ingredients to the creamed mixture, and beat well. Stir in zucchini and nuts until well combined. Pour batter into prepared pans.\nBake for 40 to 60 minutes, or until tester inserted in the center comes out clean. Cool in pan on rack for 20 minutes. Remove bread from pan, and completely cool.\n",
         "title": "Mom's Zucchini Bread"
        },
        {
         "_deepnote_index_column": 8,
         "ingredients": "['1 1/2 cups butter, softened ADVERTISEMENT', '2 cups white sugar ADVERTISEMENT', '4 eggs ADVERTISEMENT', '1 teaspoon vanilla extract ADVERTISEMENT', '5 cups all-purpose flour ADVERTISEMENT', '2 teaspoons baking powder ADVERTISEMENT', '1 teaspoon salt ADVERTISEMENT', 'ADVERTISEMENT']",
         "instructions": "In a large bowl, cream together butter and sugar until smooth. Beat in eggs and vanilla. Stir in the flour, baking powder, and salt. Cover, and chill dough for at least one hour (or overnight).\nPreheat oven to 400 degrees F (200 degrees C). Roll out dough on floured surface 1/4 to 1/2 inch thick. Cut into shapes with any cookie cutter. Place cookies 1 inch apart on ungreased cookie sheets.\nBake 6 to 8 minutes in preheated oven. Cool completely.\n",
         "title": "The Best Rolled Sugar Cookies"
        },
        {
         "_deepnote_index_column": 9,
         "ingredients": "['Sauce: ADVERTISEMENT', '1/2 cup ketchup ADVERTISEMENT', '1/2 cup chicken broth ADVERTISEMENT', '1 large egg ADVERTISEMENT', '2 tablespoons soy sauce ADVERTISEMENT', '2 tablespoons chile-garlic sauce (such as sambal oelek) ADVERTISEMENT', '1 tablespoon oyster sauce ADVERTISEMENT', '1 tablespoon tamarind paste ADVERTISEMENT', '2 teaspoons fish sauce ADVERTISEMENT', '2 teaspoons palm sugar ADVERTISEMENT', '1/4 cup minced shallot ADVERTISEMENT', '6 cloves garlic, minced ADVERTISEMENT', '2 tablespoons vegetable oil, or more as needed ADVERTISEMENT', '2 tablespoons minced fresh ginger root ADVERTISEMENT', '1 tablespoon minced serrano pepper ADVERTISEMENT', '2 cooked Dungeness crabs, cleaned and cracked ADVERTISEMENT', '2 tablespoons chopped fresh cilantro ADVERTISEMENT', '2 tablespoons sliced green onion (green part only) ADVERTISEMENT', 'ADVERTISEMENT']",
         "instructions": "Whisk ketchup, chicken broth, egg, soy sauce, chile-garlic sauce, oyster sauce, tamarind paste, fish sauce, and palm sugar together in a bowl.\nStir shallots, garlic, oil, ginger, and serrano pepper together in a pot over medium-high heat. Saute until sizzling, about 2 minutes. Add crab to pot, cover the pot with a lid, and shake until crab is completely coated in shallot mixture. Remove lid and cook and stir until heated through, about 3 minutes.\nPour ketchup mixture into pot, reduce heat to medium, and cook and stir until sauce thickens and crab is hot about 5 minutes. Remove from heat; stir in cilantro and green onions.\n",
         "title": "Singapore Chili Crabs"
        }
       ]
      },
      "text/html": [
       "<div>\n",
       "<style scoped>\n",
       "    .dataframe tbody tr th:only-of-type {\n",
       "        vertical-align: middle;\n",
       "    }\n",
       "\n",
       "    .dataframe tbody tr th {\n",
       "        vertical-align: top;\n",
       "    }\n",
       "\n",
       "    .dataframe thead th {\n",
       "        text-align: right;\n",
       "    }\n",
       "</style>\n",
       "<table border=\"1\" class=\"dataframe\">\n",
       "  <thead>\n",
       "    <tr style=\"text-align: right;\">\n",
       "      <th></th>\n",
       "      <th>title</th>\n",
       "      <th>ingredients</th>\n",
       "      <th>instructions</th>\n",
       "    </tr>\n",
       "  </thead>\n",
       "  <tbody>\n",
       "    <tr>\n",
       "      <th>0</th>\n",
       "      <td>Slow Cooker Chicken and Dumplings</td>\n",
       "      <td>[4 skinless, boneless chicken breast halves AD...</td>\n",
       "      <td>Place the chicken, butter, soup, and onion in ...</td>\n",
       "    </tr>\n",
       "    <tr>\n",
       "      <th>1</th>\n",
       "      <td>Awesome Slow Cooker Pot Roast</td>\n",
       "      <td>[2 (10.75 ounce) cans condensed cream of mushr...</td>\n",
       "      <td>In a slow cooker, mix cream of mushroom soup, ...</td>\n",
       "    </tr>\n",
       "    <tr>\n",
       "      <th>2</th>\n",
       "      <td>Brown Sugar Meatloaf</td>\n",
       "      <td>[1/2 cup packed brown sugar ADVERTISEMENT, 1/2...</td>\n",
       "      <td>Preheat oven to 350 degrees F (175 degrees C)....</td>\n",
       "    </tr>\n",
       "    <tr>\n",
       "      <th>3</th>\n",
       "      <td>Best Chocolate Chip Cookies</td>\n",
       "      <td>[1 cup butter, softened ADVERTISEMENT, 1 cup w...</td>\n",
       "      <td>Preheat oven to 350 degrees F (175 degrees C)....</td>\n",
       "    </tr>\n",
       "    <tr>\n",
       "      <th>4</th>\n",
       "      <td>Homemade Mac and Cheese Casserole</td>\n",
       "      <td>[8 ounces whole wheat rotini pasta ADVERTISEME...</td>\n",
       "      <td>Preheat oven to 350 degrees F. Line a 2-quart ...</td>\n",
       "    </tr>\n",
       "    <tr>\n",
       "      <th>5</th>\n",
       "      <td>Banana Banana Bread</td>\n",
       "      <td>[2 cups all-purpose flour ADVERTISEMENT, 1 tea...</td>\n",
       "      <td>Preheat oven to 350 degrees F (175 degrees C)....</td>\n",
       "    </tr>\n",
       "    <tr>\n",
       "      <th>6</th>\n",
       "      <td>Chef John's Fisherman's Pie</td>\n",
       "      <td>[For potato crust: ADVERTISEMENT, 3 russet pot...</td>\n",
       "      <td>Bring a large saucepan of salted water and to ...</td>\n",
       "    </tr>\n",
       "    <tr>\n",
       "      <th>7</th>\n",
       "      <td>Mom's Zucchini Bread</td>\n",
       "      <td>[3 cups all-purpose flour ADVERTISEMENT, 1 tea...</td>\n",
       "      <td>Grease and flour two 8 x 4 inch pans. Preheat ...</td>\n",
       "    </tr>\n",
       "    <tr>\n",
       "      <th>8</th>\n",
       "      <td>The Best Rolled Sugar Cookies</td>\n",
       "      <td>[1 1/2 cups butter, softened ADVERTISEMENT, 2 ...</td>\n",
       "      <td>In a large bowl, cream together butter and sug...</td>\n",
       "    </tr>\n",
       "    <tr>\n",
       "      <th>9</th>\n",
       "      <td>Singapore Chili Crabs</td>\n",
       "      <td>[Sauce: ADVERTISEMENT, 1/2 cup ketchup ADVERTI...</td>\n",
       "      <td>Whisk ketchup, chicken broth, egg, soy sauce, ...</td>\n",
       "    </tr>\n",
       "    <tr>\n",
       "      <th>10</th>\n",
       "      <td>Downeast Maine Pumpkin Bread</td>\n",
       "      <td>[1 (15 ounce) can pumpkin puree ADVERTISEMENT,...</td>\n",
       "      <td>Preheat oven to 350 degrees F (175 degrees C)....</td>\n",
       "    </tr>\n",
       "    <tr>\n",
       "      <th>11</th>\n",
       "      <td>Best Big, Fat, Chewy Chocolate Chip Cookie</td>\n",
       "      <td>[2 cups all-purpose flour ADVERTISEMENT, 1/2 t...</td>\n",
       "      <td>Preheat the oven to 325 degrees F (165 degrees...</td>\n",
       "    </tr>\n",
       "    <tr>\n",
       "      <th>12</th>\n",
       "      <td>Aimee's Mashed Cauliflower 'Potatoes'</td>\n",
       "      <td>[1 pound cauliflower florets ADVERTISEMENT, 1/...</td>\n",
       "      <td>Preheat oven to 375 degrees F (190 degrees C)....</td>\n",
       "    </tr>\n",
       "    <tr>\n",
       "      <th>13</th>\n",
       "      <td>Irish Lamb Stew</td>\n",
       "      <td>[1 1/2 pounds thickly sliced bacon, diced ADVE...</td>\n",
       "      <td>Place bacon in a large, deep skillet. Cook ove...</td>\n",
       "    </tr>\n",
       "    <tr>\n",
       "      <th>14</th>\n",
       "      <td>To Die For Blueberry Muffins</td>\n",
       "      <td>[1 1/2 cups all-purpose flour ADVERTISEMENT, 3...</td>\n",
       "      <td>Preheat oven to 400 degrees F (200 degrees C)....</td>\n",
       "    </tr>\n",
       "    <tr>\n",
       "      <th>15</th>\n",
       "      <td>Broiled Tilapia Parmesan</td>\n",
       "      <td>[1/2 cup Parmesan cheese ADVERTISEMENT, 1/4 cu...</td>\n",
       "      <td>Preheat your oven's broiler. Grease a broiling...</td>\n",
       "    </tr>\n",
       "    <tr>\n",
       "      <th>16</th>\n",
       "      <td>Award Winning Soft Chocolate Chip Cookies</td>\n",
       "      <td>[4 1/2 cups all-purpose flour ADVERTISEMENT, 2...</td>\n",
       "      <td>Preheat oven to 350 degrees F (175 degrees C)....</td>\n",
       "    </tr>\n",
       "    <tr>\n",
       "      <th>17</th>\n",
       "      <td>World's Best Lasagna</td>\n",
       "      <td>[1 pound sweet Italian sausage ADVERTISEMENT, ...</td>\n",
       "      <td>In a Dutch oven, cook sausage, ground beef, on...</td>\n",
       "    </tr>\n",
       "    <tr>\n",
       "      <th>18</th>\n",
       "      <td>Best Brownies</td>\n",
       "      <td>[1/2 cup butter ADVERTISEMENT, 1 cup white sug...</td>\n",
       "      <td>Preheat oven to 350 degrees F (175 degrees C)....</td>\n",
       "    </tr>\n",
       "    <tr>\n",
       "      <th>19</th>\n",
       "      <td>Irish Soda Bread</td>\n",
       "      <td>[1/2 cup white sugar ADVERTISEMENT, 4 cups all...</td>\n",
       "      <td>Preheat oven to 350 degrees F (175 degrees C)....</td>\n",
       "    </tr>\n",
       "    <tr>\n",
       "      <th>20</th>\n",
       "      <td>Delicious Ham and Potato Soup</td>\n",
       "      <td>[3 1/2 cups peeled and diced potatoes ADVERTIS...</td>\n",
       "      <td>Combine the potatoes, celery, onion, ham and w...</td>\n",
       "    </tr>\n",
       "    <tr>\n",
       "      <th>21</th>\n",
       "      <td>Chicken Pot Pie IX</td>\n",
       "      <td>[1 pound skinless, boneless chicken breast hal...</td>\n",
       "      <td>Preheat oven to 425 degrees F (220 degrees C.)...</td>\n",
       "    </tr>\n",
       "    <tr>\n",
       "      <th>22</th>\n",
       "      <td>Fluffy Pancakes</td>\n",
       "      <td>[3/4 cup milk ADVERTISEMENT, 2 tablespoons whi...</td>\n",
       "      <td>Combine milk with vinegar in a medium bowl and...</td>\n",
       "    </tr>\n",
       "    <tr>\n",
       "      <th>23</th>\n",
       "      <td>Good Old Fashioned Pancakes</td>\n",
       "      <td>[1 1/2 cups all-purpose flour ADVERTISEMENT, 3...</td>\n",
       "      <td>In a large bowl, sift together the flour, baki...</td>\n",
       "    </tr>\n",
       "    <tr>\n",
       "      <th>24</th>\n",
       "      <td>Banana Crumb Muffins</td>\n",
       "      <td>[1 1/2 cups all-purpose flour ADVERTISEMENT, 1...</td>\n",
       "      <td>Preheat oven to 375 degrees F (190 degrees C)....</td>\n",
       "    </tr>\n",
       "    <tr>\n",
       "      <th>25</th>\n",
       "      <td>Bailey's Irish Cream Brownies</td>\n",
       "      <td>[2 (19.8 ounce) packages fudge brownie mix (su...</td>\n",
       "      <td>Preheat oven to 350 degrees F (175 degrees C)....</td>\n",
       "    </tr>\n",
       "    <tr>\n",
       "      <th>26</th>\n",
       "      <td>Apple Pie by Grandma Ople</td>\n",
       "      <td>[1 recipe pastry for a 9 inch double crust pie...</td>\n",
       "      <td>Preheat oven to 425 degrees F (220 degrees C)....</td>\n",
       "    </tr>\n",
       "    <tr>\n",
       "      <th>27</th>\n",
       "      <td>Easy Irish Colcannon</td>\n",
       "      <td>[2 pounds potatoes, peeled and cubed ADVERTISE...</td>\n",
       "      <td>Place the potatoes, cabbage, and green onions ...</td>\n",
       "    </tr>\n",
       "    <tr>\n",
       "      <th>28</th>\n",
       "      <td>Ang's Balsamic Maple Chicken</td>\n",
       "      <td>[2 tablespoons maple syrup ADVERTISEMENT, 1 ta...</td>\n",
       "      <td>Whisk maple syrup, balsamic vinegar, garlic po...</td>\n",
       "    </tr>\n",
       "    <tr>\n",
       "      <th>29</th>\n",
       "      <td>Zesty Slow Cooker Chicken Barbecue</td>\n",
       "      <td>[6 frozen skinless, boneless chicken breast ha...</td>\n",
       "      <td>Place chicken in a slow cooker. In a bowl, mix...</td>\n",
       "    </tr>\n",
       "    <tr>\n",
       "      <th>30</th>\n",
       "      <td>Chicken Cordon Bleu II</td>\n",
       "      <td>[6 skinless, boneless chicken breast halves AD...</td>\n",
       "      <td>Pound chicken breasts if they are too thick. P...</td>\n",
       "    </tr>\n",
       "    <tr>\n",
       "      <th>31</th>\n",
       "      <td>Chantal's New York Cheesecake</td>\n",
       "      <td>[15 graham crackers, crushed ADVERTISEMENT, 2 ...</td>\n",
       "      <td>Preheat oven to 350 degrees F (175 degrees C)....</td>\n",
       "    </tr>\n",
       "    <tr>\n",
       "      <th>32</th>\n",
       "      <td>Baked Teriyaki Chicken</td>\n",
       "      <td>[1 tablespoon cornstarch ADVERTISEMENT, 1 tabl...</td>\n",
       "      <td>In a small saucepan over low heat, combine the...</td>\n",
       "    </tr>\n",
       "    <tr>\n",
       "      <th>33</th>\n",
       "      <td>Guacamole</td>\n",
       "      <td>[3 avocados - peeled, pitted, and mashed ADVER...</td>\n",
       "      <td>In a medium bowl, mash together the avocados, ...</td>\n",
       "    </tr>\n",
       "    <tr>\n",
       "      <th>34</th>\n",
       "      <td>Boilermaker Tailgate Chili</td>\n",
       "      <td>[2 pounds ground beef chuck ADVERTISEMENT, 1 p...</td>\n",
       "      <td>Heat a large stock pot over medium-high heat. ...</td>\n",
       "    </tr>\n",
       "    <tr>\n",
       "      <th>35</th>\n",
       "      <td>Baked Pork Chops I</td>\n",
       "      <td>[6 pork chops ADVERTISEMENT, 1 teaspoon garlic...</td>\n",
       "      <td>Preheat oven to 350 degrees F (175 degrees C)....</td>\n",
       "    </tr>\n",
       "    <tr>\n",
       "      <th>36</th>\n",
       "      <td>Easy Sugar Cookies</td>\n",
       "      <td>[2 3/4 cups all-purpose flour ADVERTISEMENT, 1...</td>\n",
       "      <td>Preheat oven to 375 degrees F (190 degrees C)....</td>\n",
       "    </tr>\n",
       "    <tr>\n",
       "      <th>37</th>\n",
       "      <td>Slow Cooker Chicken Taco Soup</td>\n",
       "      <td>[1 onion, chopped ADVERTISEMENT, 1 (16 ounce) ...</td>\n",
       "      <td>Place the onion, chili beans, black beans, cor...</td>\n",
       "    </tr>\n",
       "    <tr>\n",
       "      <th>38</th>\n",
       "      <td>Grandmother's Buttermilk Cornbread</td>\n",
       "      <td>[1/2 cup butter ADVERTISEMENT, 2/3 cup white s...</td>\n",
       "      <td>Preheat oven to 375 degrees F (175 degrees C)....</td>\n",
       "    </tr>\n",
       "    <tr>\n",
       "      <th>39</th>\n",
       "      <td>Baked Ziti I</td>\n",
       "      <td>[1 pound dry ziti pasta ADVERTISEMENT, 1 onion...</td>\n",
       "      <td>Bring a large pot of lightly salted water to a...</td>\n",
       "    </tr>\n",
       "    <tr>\n",
       "      <th>40</th>\n",
       "      <td>Janet's Rich Banana Bread</td>\n",
       "      <td>[1/2 cup butter, melted ADVERTISEMENT, 1 cup w...</td>\n",
       "      <td>Preheat oven to 350 degrees F (175 degrees C)....</td>\n",
       "    </tr>\n",
       "    <tr>\n",
       "      <th>41</th>\n",
       "      <td>Big Soft Ginger Cookies</td>\n",
       "      <td>[2 1/4 cups all-purpose flour ADVERTISEMENT, 2...</td>\n",
       "      <td>Preheat oven to 350 degrees F (175 degrees C)....</td>\n",
       "    </tr>\n",
       "    <tr>\n",
       "      <th>42</th>\n",
       "      <td>Mrs. Sigg's Snickerdoodles</td>\n",
       "      <td>[1/2 cup butter, softened ADVERTISEMENT, 1/2 c...</td>\n",
       "      <td>Preheat oven to 400 degrees F (200 degrees C)....</td>\n",
       "    </tr>\n",
       "    <tr>\n",
       "      <th>43</th>\n",
       "      <td>Taco Seasoning I</td>\n",
       "      <td>[1 tablespoon chili powder ADVERTISEMENT, 1/4 ...</td>\n",
       "      <td>In a small bowl, mix together chili powder, ga...</td>\n",
       "    </tr>\n",
       "    <tr>\n",
       "      <th>44</th>\n",
       "      <td>Sloppy Joes II</td>\n",
       "      <td>[1 pound lean ground beef ADVERTISEMENT, 1/4 c...</td>\n",
       "      <td>In a medium skillet over medium heat, brown th...</td>\n",
       "    </tr>\n",
       "    <tr>\n",
       "      <th>45</th>\n",
       "      <td>Clone of a Cinnabon</td>\n",
       "      <td>[1 cup warm milk (110 degrees F/45 degrees C) ...</td>\n",
       "      <td>Place ingredients in the pan of the bread mach...</td>\n",
       "    </tr>\n",
       "    <tr>\n",
       "      <th>46</th>\n",
       "      <td>Too Much Chocolate Cake</td>\n",
       "      <td>[1 (18.25 ounce) package devil's food cake mix...</td>\n",
       "      <td>Preheat oven to 350 degrees F (175 degrees C)....</td>\n",
       "    </tr>\n",
       "    <tr>\n",
       "      <th>47</th>\n",
       "      <td>Carrot Cake III</td>\n",
       "      <td>[4 eggs ADVERTISEMENT, 1 1/4 cups vegetable oi...</td>\n",
       "      <td>Preheat oven to 350 degrees F (175 degrees C)....</td>\n",
       "    </tr>\n",
       "    <tr>\n",
       "      <th>48</th>\n",
       "      <td>Apple Crisp II</td>\n",
       "      <td>[10 cups all-purpose apples, peeled, cored and...</td>\n",
       "      <td>Preheat oven to 350 degrees F (175 degree C).\\...</td>\n",
       "    </tr>\n",
       "    <tr>\n",
       "      <th>49</th>\n",
       "      <td>Amish White Bread</td>\n",
       "      <td>[2 cups warm water (110 degrees F/45 degrees C...</td>\n",
       "      <td>In a large bowl, dissolve the sugar in warm wa...</td>\n",
       "    </tr>\n",
       "  </tbody>\n",
       "</table>\n",
       "</div>"
      ],
      "text/plain": [
       "                                         title  \\\n",
       "0            Slow Cooker Chicken and Dumplings   \n",
       "1                Awesome Slow Cooker Pot Roast   \n",
       "2                         Brown Sugar Meatloaf   \n",
       "3                  Best Chocolate Chip Cookies   \n",
       "4            Homemade Mac and Cheese Casserole   \n",
       "5                          Banana Banana Bread   \n",
       "6                  Chef John's Fisherman's Pie   \n",
       "7                         Mom's Zucchini Bread   \n",
       "8                The Best Rolled Sugar Cookies   \n",
       "9                        Singapore Chili Crabs   \n",
       "10                Downeast Maine Pumpkin Bread   \n",
       "11  Best Big, Fat, Chewy Chocolate Chip Cookie   \n",
       "12       Aimee's Mashed Cauliflower 'Potatoes'   \n",
       "13                             Irish Lamb Stew   \n",
       "14                To Die For Blueberry Muffins   \n",
       "15                    Broiled Tilapia Parmesan   \n",
       "16   Award Winning Soft Chocolate Chip Cookies   \n",
       "17                        World's Best Lasagna   \n",
       "18                               Best Brownies   \n",
       "19                            Irish Soda Bread   \n",
       "20               Delicious Ham and Potato Soup   \n",
       "21                          Chicken Pot Pie IX   \n",
       "22                             Fluffy Pancakes   \n",
       "23                 Good Old Fashioned Pancakes   \n",
       "24                        Banana Crumb Muffins   \n",
       "25               Bailey's Irish Cream Brownies   \n",
       "26                   Apple Pie by Grandma Ople   \n",
       "27                        Easy Irish Colcannon   \n",
       "28                Ang's Balsamic Maple Chicken   \n",
       "29          Zesty Slow Cooker Chicken Barbecue   \n",
       "30                      Chicken Cordon Bleu II   \n",
       "31               Chantal's New York Cheesecake   \n",
       "32                      Baked Teriyaki Chicken   \n",
       "33                                   Guacamole   \n",
       "34                  Boilermaker Tailgate Chili   \n",
       "35                          Baked Pork Chops I   \n",
       "36                          Easy Sugar Cookies   \n",
       "37               Slow Cooker Chicken Taco Soup   \n",
       "38          Grandmother's Buttermilk Cornbread   \n",
       "39                                Baked Ziti I   \n",
       "40                   Janet's Rich Banana Bread   \n",
       "41                     Big Soft Ginger Cookies   \n",
       "42                  Mrs. Sigg's Snickerdoodles   \n",
       "43                            Taco Seasoning I   \n",
       "44                              Sloppy Joes II   \n",
       "45                         Clone of a Cinnabon   \n",
       "46                     Too Much Chocolate Cake   \n",
       "47                             Carrot Cake III   \n",
       "48                              Apple Crisp II   \n",
       "49                           Amish White Bread   \n",
       "\n",
       "                                          ingredients  \\\n",
       "0   [4 skinless, boneless chicken breast halves AD...   \n",
       "1   [2 (10.75 ounce) cans condensed cream of mushr...   \n",
       "2   [1/2 cup packed brown sugar ADVERTISEMENT, 1/2...   \n",
       "3   [1 cup butter, softened ADVERTISEMENT, 1 cup w...   \n",
       "4   [8 ounces whole wheat rotini pasta ADVERTISEME...   \n",
       "5   [2 cups all-purpose flour ADVERTISEMENT, 1 tea...   \n",
       "6   [For potato crust: ADVERTISEMENT, 3 russet pot...   \n",
       "7   [3 cups all-purpose flour ADVERTISEMENT, 1 tea...   \n",
       "8   [1 1/2 cups butter, softened ADVERTISEMENT, 2 ...   \n",
       "9   [Sauce: ADVERTISEMENT, 1/2 cup ketchup ADVERTI...   \n",
       "10  [1 (15 ounce) can pumpkin puree ADVERTISEMENT,...   \n",
       "11  [2 cups all-purpose flour ADVERTISEMENT, 1/2 t...   \n",
       "12  [1 pound cauliflower florets ADVERTISEMENT, 1/...   \n",
       "13  [1 1/2 pounds thickly sliced bacon, diced ADVE...   \n",
       "14  [1 1/2 cups all-purpose flour ADVERTISEMENT, 3...   \n",
       "15  [1/2 cup Parmesan cheese ADVERTISEMENT, 1/4 cu...   \n",
       "16  [4 1/2 cups all-purpose flour ADVERTISEMENT, 2...   \n",
       "17  [1 pound sweet Italian sausage ADVERTISEMENT, ...   \n",
       "18  [1/2 cup butter ADVERTISEMENT, 1 cup white sug...   \n",
       "19  [1/2 cup white sugar ADVERTISEMENT, 4 cups all...   \n",
       "20  [3 1/2 cups peeled and diced potatoes ADVERTIS...   \n",
       "21  [1 pound skinless, boneless chicken breast hal...   \n",
       "22  [3/4 cup milk ADVERTISEMENT, 2 tablespoons whi...   \n",
       "23  [1 1/2 cups all-purpose flour ADVERTISEMENT, 3...   \n",
       "24  [1 1/2 cups all-purpose flour ADVERTISEMENT, 1...   \n",
       "25  [2 (19.8 ounce) packages fudge brownie mix (su...   \n",
       "26  [1 recipe pastry for a 9 inch double crust pie...   \n",
       "27  [2 pounds potatoes, peeled and cubed ADVERTISE...   \n",
       "28  [2 tablespoons maple syrup ADVERTISEMENT, 1 ta...   \n",
       "29  [6 frozen skinless, boneless chicken breast ha...   \n",
       "30  [6 skinless, boneless chicken breast halves AD...   \n",
       "31  [15 graham crackers, crushed ADVERTISEMENT, 2 ...   \n",
       "32  [1 tablespoon cornstarch ADVERTISEMENT, 1 tabl...   \n",
       "33  [3 avocados - peeled, pitted, and mashed ADVER...   \n",
       "34  [2 pounds ground beef chuck ADVERTISEMENT, 1 p...   \n",
       "35  [6 pork chops ADVERTISEMENT, 1 teaspoon garlic...   \n",
       "36  [2 3/4 cups all-purpose flour ADVERTISEMENT, 1...   \n",
       "37  [1 onion, chopped ADVERTISEMENT, 1 (16 ounce) ...   \n",
       "38  [1/2 cup butter ADVERTISEMENT, 2/3 cup white s...   \n",
       "39  [1 pound dry ziti pasta ADVERTISEMENT, 1 onion...   \n",
       "40  [1/2 cup butter, melted ADVERTISEMENT, 1 cup w...   \n",
       "41  [2 1/4 cups all-purpose flour ADVERTISEMENT, 2...   \n",
       "42  [1/2 cup butter, softened ADVERTISEMENT, 1/2 c...   \n",
       "43  [1 tablespoon chili powder ADVERTISEMENT, 1/4 ...   \n",
       "44  [1 pound lean ground beef ADVERTISEMENT, 1/4 c...   \n",
       "45  [1 cup warm milk (110 degrees F/45 degrees C) ...   \n",
       "46  [1 (18.25 ounce) package devil's food cake mix...   \n",
       "47  [4 eggs ADVERTISEMENT, 1 1/4 cups vegetable oi...   \n",
       "48  [10 cups all-purpose apples, peeled, cored and...   \n",
       "49  [2 cups warm water (110 degrees F/45 degrees C...   \n",
       "\n",
       "                                         instructions  \n",
       "0   Place the chicken, butter, soup, and onion in ...  \n",
       "1   In a slow cooker, mix cream of mushroom soup, ...  \n",
       "2   Preheat oven to 350 degrees F (175 degrees C)....  \n",
       "3   Preheat oven to 350 degrees F (175 degrees C)....  \n",
       "4   Preheat oven to 350 degrees F. Line a 2-quart ...  \n",
       "5   Preheat oven to 350 degrees F (175 degrees C)....  \n",
       "6   Bring a large saucepan of salted water and to ...  \n",
       "7   Grease and flour two 8 x 4 inch pans. Preheat ...  \n",
       "8   In a large bowl, cream together butter and sug...  \n",
       "9   Whisk ketchup, chicken broth, egg, soy sauce, ...  \n",
       "10  Preheat oven to 350 degrees F (175 degrees C)....  \n",
       "11  Preheat the oven to 325 degrees F (165 degrees...  \n",
       "12  Preheat oven to 375 degrees F (190 degrees C)....  \n",
       "13  Place bacon in a large, deep skillet. Cook ove...  \n",
       "14  Preheat oven to 400 degrees F (200 degrees C)....  \n",
       "15  Preheat your oven's broiler. Grease a broiling...  \n",
       "16  Preheat oven to 350 degrees F (175 degrees C)....  \n",
       "17  In a Dutch oven, cook sausage, ground beef, on...  \n",
       "18  Preheat oven to 350 degrees F (175 degrees C)....  \n",
       "19  Preheat oven to 350 degrees F (175 degrees C)....  \n",
       "20  Combine the potatoes, celery, onion, ham and w...  \n",
       "21  Preheat oven to 425 degrees F (220 degrees C.)...  \n",
       "22  Combine milk with vinegar in a medium bowl and...  \n",
       "23  In a large bowl, sift together the flour, baki...  \n",
       "24  Preheat oven to 375 degrees F (190 degrees C)....  \n",
       "25  Preheat oven to 350 degrees F (175 degrees C)....  \n",
       "26  Preheat oven to 425 degrees F (220 degrees C)....  \n",
       "27  Place the potatoes, cabbage, and green onions ...  \n",
       "28  Whisk maple syrup, balsamic vinegar, garlic po...  \n",
       "29  Place chicken in a slow cooker. In a bowl, mix...  \n",
       "30  Pound chicken breasts if they are too thick. P...  \n",
       "31  Preheat oven to 350 degrees F (175 degrees C)....  \n",
       "32  In a small saucepan over low heat, combine the...  \n",
       "33  In a medium bowl, mash together the avocados, ...  \n",
       "34  Heat a large stock pot over medium-high heat. ...  \n",
       "35  Preheat oven to 350 degrees F (175 degrees C)....  \n",
       "36  Preheat oven to 375 degrees F (190 degrees C)....  \n",
       "37  Place the onion, chili beans, black beans, cor...  \n",
       "38  Preheat oven to 375 degrees F (175 degrees C)....  \n",
       "39  Bring a large pot of lightly salted water to a...  \n",
       "40  Preheat oven to 350 degrees F (175 degrees C)....  \n",
       "41  Preheat oven to 350 degrees F (175 degrees C)....  \n",
       "42  Preheat oven to 400 degrees F (200 degrees C)....  \n",
       "43  In a small bowl, mix together chili powder, ga...  \n",
       "44  In a medium skillet over medium heat, brown th...  \n",
       "45  Place ingredients in the pan of the bread mach...  \n",
       "46  Preheat oven to 350 degrees F (175 degrees C)....  \n",
       "47  Preheat oven to 350 degrees F (175 degrees C)....  \n",
       "48  Preheat oven to 350 degrees F (175 degree C).\\...  \n",
       "49  In a large bowl, dissolve the sugar in warm wa...  "
      ]
     },
     "execution_count": 7,
     "metadata": {},
     "output_type": "execute_result"
    }
   ],
   "source": [
    "recipe_f.head(50)"
   ]
  },
  {
   "cell_type": "code",
   "execution_count": null,
   "metadata": {
    "cell_id": "e2831e11ad864fe68d0e543d59b7a6fb",
    "deepnote_cell_type": "code",
    "deepnote_to_be_reexecuted": false,
    "execution_millis": 580,
    "execution_start": 1710461534911,
    "source_hash": null
   },
   "outputs": [
    {
     "data": {
      "text/plain": [
       "[1520, 0, 39]"
      ]
     },
     "execution_count": 8,
     "metadata": {},
     "output_type": "execute_result"
    }
   ],
   "source": [
    "# Indexing rows with columns that only contain numbers or punctuation\n",
    "import string\n",
    "nc_ingred_index = [index for i, index in zip(recipe_f['ingredients'], recipe_f.index) if all(j.isdigit() or j in string.punctuation for j in i)]\n",
    "nc_title_index = [index for i, index in zip(recipe_f['title'], recipe_f.index) if all(j.isdigit() or j in string.punctuation for j in i)]\n",
    "nc_instr_index = [index for i, index in zip(recipe_f['instructions'], recipe_f.index) if all(j.isdigit() or j in string.punctuation for j in i)]\n",
    "# Checking number of rows in each category that are only punc/nums\n",
    "index_list = [nc_ingred_index, nc_title_index, nc_instr_index]\n",
    "[len(x) for x in index_list]"
   ]
  },
  {
   "cell_type": "code",
   "execution_count": null,
   "metadata": {
    "cell_id": "3be64e0b45fe443db6c2e968ef47e0b4",
    "deepnote_cell_type": "code",
    "deepnote_to_be_reexecuted": false,
    "execution_millis": 79,
    "execution_start": 1710461535565,
    "source_hash": null
   },
   "outputs": [
    {
     "name": "stdout",
     "output_type": "stream",
     "text": [
      "1551\n"
     ]
    },
    {
     "data": {
      "text/plain": [
       "(122922, 3)"
      ]
     },
     "execution_count": 9,
     "metadata": {},
     "output_type": "execute_result"
    }
   ],
   "source": [
    "# generating unique indices for index_list and dropping from dataframe\n",
    "# recipes without recipe instructions or ingredients are not useable\n",
    "from functools import reduce\n",
    "from operator import add\n",
    "inds_to_drop = set(reduce(add, index_list))\n",
    "print(len(inds_to_drop))\n",
    "recipe_f = recipe_f.drop(index=inds_to_drop).reset_index(drop=True)\n",
    "recipe_f.shape"
   ]
  },
  {
   "cell_type": "code",
   "execution_count": null,
   "metadata": {
    "cell_id": "9aa86984de9c474191e7c1705f3df284",
    "deepnote_cell_type": "code",
    "deepnote_table_loading": false,
    "deepnote_table_state": {
     "filters": [],
     "pageIndex": 1,
     "pageSize": 10,
     "sortBy": []
    },
    "deepnote_to_be_reexecuted": false,
    "execution_millis": 278,
    "execution_start": 1710461535684,
    "source_hash": null
   },
   "outputs": [
    {
     "data": {
      "application/vnd.deepnote.dataframe.v3+json": {
       "column_count": 3,
       "columns": [
        {
         "dtype": "object",
         "name": "title",
         "stats": {
          "categories": [
           {
            "count": 1,
            "name": "Terrific Trail Mix"
           },
           {
            "count": 1,
            "name": "Ginger-Cabbage Salad"
           },
           {
            "count": 18,
            "name": "18 others"
           }
          ],
          "nan_count": 0,
          "unique_count": 20
         }
        },
        {
         "dtype": "object",
         "name": "ingredients",
         "stats": {
          "categories": [
           {
            "count": 1,
            "name": "['1 cup combination diced dried fruit, such as prunes, apricots, pears and apples ADVERTISEMENT', '1/2 cup raisins and/or dried cherries or cranberries ADVERTISEMENT', '1 1/2 cups unsalted sunflower seeds ADVERTISEMENT', '1 cup unsalted dry-roasted peanuts (or honey-roasted peanuts, chopped walnuts or unsalted almonds) ADVERTISEMENT', 'ADVERTISEMENT']"
           },
           {
            "count": 1,
            "name": "['3/4 cup pickled ginger ADVERTISEMENT', '4 cups shredded cabbage, green or red ADVERTISEMENT', '1 cup shredded carrots ADVERTISEMENT', '1/2 cup peanuts, crushed ADVERTISEMENT', '1/4 cup mirin (sweetened Asian wine) ADVERTISEMENT', '1/4 cup rice vinegar ADVERTISEMENT', '4 scallions, sliced ADVERTISEMENT', 'ADVERTISEMENT']"
           },
           {
            "count": 18,
            "name": "18 others"
           }
          ],
          "nan_count": 0,
          "unique_count": 20
         }
        },
        {
         "dtype": "object",
         "name": "instructions",
         "stats": {
          "categories": [
           {
            "count": 6,
            "name": "Serve over 1 cup ice.\n"
           },
           {
            "count": 3,
            "name": "Juice.\nJuice."
           },
           {
            "count": 11,
            "name": "11 others"
           }
          ],
          "nan_count": 0,
          "unique_count": 13
         }
        },
        {
         "dtype": "int64",
         "name": "_deepnote_index_column"
        }
       ],
       "row_count": 20,
       "rows": [
        {
         "_deepnote_index_column": 59516,
         "ingredients": "['1 1/2 medium red apples', '5 medium carrots', '1 medium orange, peeled']",
         "instructions": "Juice.\nJuice.",
         "title": "Red Delicious "
        },
        {
         "_deepnote_index_column": 62417,
         "ingredients": "['1/2 medium jalapeño', '1 cup pineapple', '2 medium oranges, peeled', '1/4 cup cilantro']",
         "instructions": "Juice.\nJuice.",
         "title": "Piña Piquante "
        },
        {
         "_deepnote_index_column": 65758,
         "ingredients": "['1 cup rice']",
         "instructions": "method method method....;",
         "title": "QA"
        },
        {
         "_deepnote_index_column": 67556,
         "ingredients": "['4 tablespoons unsalted mixed nuts', '2 tablespoons dried fruit']",
         "instructions": "Combine nuts and fruit.",
         "title": "Dried Fruit and Nuts"
        },
        {
         "_deepnote_index_column": 68273,
         "ingredients": "['2 honey hams', '3 hot dogs', '4 buns', '1 turkey']",
         "instructions": "kill\nskin\npluck\nboil",
         "title": "QA V1.0.113"
        },
        {
         "_deepnote_index_column": 68368,
         "ingredients": "['2 yellow tomatoes, sliced into 8 pieces', '2 red tomatoes, sliced into 8 pieces', '1 head fennel, shaved', '2 ounces red onion, shaved', '4 teaspoons basil, chiffonade', '4 ounces extra-virgin olive oil', '4 ounces red wine vinegar', 'kosher salt', 'coarse black pepper']",
         "instructions": "Mix together and serve.;",
         "title": "Tomato and Shaved Fennel Salad"
        },
        {
         "_deepnote_index_column": 73435,
         "ingredients": "['2 parts Kahlua', '4 parts soda water']",
         "instructions": "Pour into a highball glass.;",
         "title": "Kahlua and Club Soda"
        },
        {
         "_deepnote_index_column": 74316,
         "ingredients": "['2 to 3 apples', '1 cup water (spring root)', '1-inch piece ginger root']",
         "instructions": "Blend all ingredients.;",
         "title": "Apple Ginger Nectar"
        },
        {
         "_deepnote_index_column": 74782,
         "ingredients": "['1 tablespoon opal basil, chiffonade leaves', '1 tablespoon chives, snipped in 1-inch pieces', '1 tablespoon fennel fronds', '1 tablespoon chervil, leaves picked from stems', '1/2 tablespoon oba leaf, chiffonade leaves']",
         "instructions": "Mix all ingredients together.",
         "title": "Herb Salad"
        },
        {
         "_deepnote_index_column": 77551,
         "ingredients": "['test', '2', '3', '4', '5']",
         "instructions": "1\nsdkfhiashf;hSAFASFASFASS",
         "title": "Coolio"
        }
       ]
      },
      "text/html": [
       "<div>\n",
       "<style scoped>\n",
       "    .dataframe tbody tr th:only-of-type {\n",
       "        vertical-align: middle;\n",
       "    }\n",
       "\n",
       "    .dataframe tbody tr th {\n",
       "        vertical-align: top;\n",
       "    }\n",
       "\n",
       "    .dataframe thead th {\n",
       "        text-align: right;\n",
       "    }\n",
       "</style>\n",
       "<table border=\"1\" class=\"dataframe\">\n",
       "  <thead>\n",
       "    <tr style=\"text-align: right;\">\n",
       "      <th></th>\n",
       "      <th>title</th>\n",
       "      <th>ingredients</th>\n",
       "      <th>instructions</th>\n",
       "    </tr>\n",
       "  </thead>\n",
       "  <tbody>\n",
       "    <tr>\n",
       "      <th>18316</th>\n",
       "      <td>Terrific Trail Mix</td>\n",
       "      <td>[1 cup combination diced dried fruit, such as ...</td>\n",
       "      <td>Mix all. Makes 4 cups.\\n</td>\n",
       "    </tr>\n",
       "    <tr>\n",
       "      <th>21254</th>\n",
       "      <td>Ginger-Cabbage Salad</td>\n",
       "      <td>[3/4 cup pickled ginger ADVERTISEMENT, 4 cups ...</td>\n",
       "      <td>Combine all.\\n</td>\n",
       "    </tr>\n",
       "    <tr>\n",
       "      <th>28814</th>\n",
       "      <td>Cherry Vanilla</td>\n",
       "      <td>[6 ounces 7UP® Cherry ADVERTISEMENT, 1 fluid o...</td>\n",
       "      <td>Serve over 1 cup ice.\\n</td>\n",
       "    </tr>\n",
       "    <tr>\n",
       "      <th>31146</th>\n",
       "      <td>Shirley Temple from 7UP</td>\n",
       "      <td>[8 ounces 7UP® ADVERTISEMENT, 1 ounce Rose's® ...</td>\n",
       "      <td>Serve over 1 cup ice.\\n</td>\n",
       "    </tr>\n",
       "    <tr>\n",
       "      <th>31161</th>\n",
       "      <td>Lucky 7</td>\n",
       "      <td>[6 ounces 7UP® ADVERTISEMENT, 1 ounce vodka (s...</td>\n",
       "      <td>Serve over 1 cup ice.\\n</td>\n",
       "    </tr>\n",
       "    <tr>\n",
       "      <th>31163</th>\n",
       "      <td>Electric 7UP</td>\n",
       "      <td>[8 ounces 7UP® ADVERTISEMENT, 2 ounces gin ADV...</td>\n",
       "      <td>Serve over 1 cup ice.\\n</td>\n",
       "    </tr>\n",
       "    <tr>\n",
       "      <th>35030</th>\n",
       "      <td>7UP Pom Spritzer</td>\n",
       "      <td>[2 1/2 ounces Rose's Cocktail Infusions® Pomeg...</td>\n",
       "      <td>Serve over 1 cup ice.\\n</td>\n",
       "    </tr>\n",
       "    <tr>\n",
       "      <th>35032</th>\n",
       "      <td>7 and 7 and 7</td>\n",
       "      <td>[3 ounces 7UP® ADVERTISEMENT, 3 fluid ounces H...</td>\n",
       "      <td>Serve over 1 cup ice.\\n</td>\n",
       "    </tr>\n",
       "    <tr>\n",
       "      <th>52284</th>\n",
       "      <td>Royal Icing</td>\n",
       "      <td>[Using electric mixer, beat 3 1/4 cups powdere...</td>\n",
       "      <td>N/A N/A\\nN/A</td>\n",
       "    </tr>\n",
       "    <tr>\n",
       "      <th>55149</th>\n",
       "      <td>Very Veggie</td>\n",
       "      <td>[1 cup kale, 1 cup spinach, 1 cup parsley, 1/4...</td>\n",
       "      <td>Juice.\\nJuice.</td>\n",
       "    </tr>\n",
       "    <tr>\n",
       "      <th>59516</th>\n",
       "      <td>Red Delicious</td>\n",
       "      <td>[1 1/2 medium red apples, 5 medium carrots, 1 ...</td>\n",
       "      <td>Juice.\\nJuice.</td>\n",
       "    </tr>\n",
       "    <tr>\n",
       "      <th>62417</th>\n",
       "      <td>Piña Piquante</td>\n",
       "      <td>[1/2 medium jalapeño, 1 cup pineapple, 2 mediu...</td>\n",
       "      <td>Juice.\\nJuice.</td>\n",
       "    </tr>\n",
       "    <tr>\n",
       "      <th>65758</th>\n",
       "      <td>QA</td>\n",
       "      <td>[1 cup rice]</td>\n",
       "      <td>method method method....;</td>\n",
       "    </tr>\n",
       "    <tr>\n",
       "      <th>67556</th>\n",
       "      <td>Dried Fruit and Nuts</td>\n",
       "      <td>[4 tablespoons unsalted mixed nuts, 2 tablespo...</td>\n",
       "      <td>Combine nuts and fruit.</td>\n",
       "    </tr>\n",
       "    <tr>\n",
       "      <th>68273</th>\n",
       "      <td>QA V1.0.113</td>\n",
       "      <td>[2 honey hams, 3 hot dogs, 4 buns, 1 turkey]</td>\n",
       "      <td>kill\\nskin\\npluck\\nboil</td>\n",
       "    </tr>\n",
       "    <tr>\n",
       "      <th>68368</th>\n",
       "      <td>Tomato and Shaved Fennel Salad</td>\n",
       "      <td>[2 yellow tomatoes, sliced into 8 pieces, 2 re...</td>\n",
       "      <td>Mix together and serve.;</td>\n",
       "    </tr>\n",
       "    <tr>\n",
       "      <th>73435</th>\n",
       "      <td>Kahlua and Club Soda</td>\n",
       "      <td>[2 parts Kahlua, 4 parts soda water]</td>\n",
       "      <td>Pour into a highball glass.;</td>\n",
       "    </tr>\n",
       "    <tr>\n",
       "      <th>74316</th>\n",
       "      <td>Apple Ginger Nectar</td>\n",
       "      <td>[2 to 3 apples, 1 cup water (spring root), 1-i...</td>\n",
       "      <td>Blend all ingredients.;</td>\n",
       "    </tr>\n",
       "    <tr>\n",
       "      <th>74782</th>\n",
       "      <td>Herb Salad</td>\n",
       "      <td>[1 tablespoon opal basil, chiffonade leaves, 1...</td>\n",
       "      <td>Mix all ingredients together.</td>\n",
       "    </tr>\n",
       "    <tr>\n",
       "      <th>77551</th>\n",
       "      <td>Coolio</td>\n",
       "      <td>[test, 2, 3, 4, 5]</td>\n",
       "      <td>1\\nsdkfhiashf;hSAFASFASFASS</td>\n",
       "    </tr>\n",
       "  </tbody>\n",
       "</table>\n",
       "</div>"
      ],
      "text/plain": [
       "                                title  \\\n",
       "18316              Terrific Trail Mix   \n",
       "21254            Ginger-Cabbage Salad   \n",
       "28814                  Cherry Vanilla   \n",
       "31146         Shirley Temple from 7UP   \n",
       "31161                         Lucky 7   \n",
       "31163                    Electric 7UP   \n",
       "35030                7UP Pom Spritzer   \n",
       "35032                   7 and 7 and 7   \n",
       "52284                    Royal Icing    \n",
       "55149                    Very Veggie    \n",
       "59516                  Red Delicious    \n",
       "62417                  Piña Piquante    \n",
       "65758                              QA   \n",
       "67556            Dried Fruit and Nuts   \n",
       "68273                     QA V1.0.113   \n",
       "68368  Tomato and Shaved Fennel Salad   \n",
       "73435            Kahlua and Club Soda   \n",
       "74316             Apple Ginger Nectar   \n",
       "74782                      Herb Salad   \n",
       "77551                          Coolio   \n",
       "\n",
       "                                             ingredients  \\\n",
       "18316  [1 cup combination diced dried fruit, such as ...   \n",
       "21254  [3/4 cup pickled ginger ADVERTISEMENT, 4 cups ...   \n",
       "28814  [6 ounces 7UP® Cherry ADVERTISEMENT, 1 fluid o...   \n",
       "31146  [8 ounces 7UP® ADVERTISEMENT, 1 ounce Rose's® ...   \n",
       "31161  [6 ounces 7UP® ADVERTISEMENT, 1 ounce vodka (s...   \n",
       "31163  [8 ounces 7UP® ADVERTISEMENT, 2 ounces gin ADV...   \n",
       "35030  [2 1/2 ounces Rose's Cocktail Infusions® Pomeg...   \n",
       "35032  [3 ounces 7UP® ADVERTISEMENT, 3 fluid ounces H...   \n",
       "52284  [Using electric mixer, beat 3 1/4 cups powdere...   \n",
       "55149  [1 cup kale, 1 cup spinach, 1 cup parsley, 1/4...   \n",
       "59516  [1 1/2 medium red apples, 5 medium carrots, 1 ...   \n",
       "62417  [1/2 medium jalapeño, 1 cup pineapple, 2 mediu...   \n",
       "65758                                       [1 cup rice]   \n",
       "67556  [4 tablespoons unsalted mixed nuts, 2 tablespo...   \n",
       "68273       [2 honey hams, 3 hot dogs, 4 buns, 1 turkey]   \n",
       "68368  [2 yellow tomatoes, sliced into 8 pieces, 2 re...   \n",
       "73435               [2 parts Kahlua, 4 parts soda water]   \n",
       "74316  [2 to 3 apples, 1 cup water (spring root), 1-i...   \n",
       "74782  [1 tablespoon opal basil, chiffonade leaves, 1...   \n",
       "77551                                 [test, 2, 3, 4, 5]   \n",
       "\n",
       "                        instructions  \n",
       "18316       Mix all. Makes 4 cups.\\n  \n",
       "21254                 Combine all.\\n  \n",
       "28814        Serve over 1 cup ice.\\n  \n",
       "31146        Serve over 1 cup ice.\\n  \n",
       "31161        Serve over 1 cup ice.\\n  \n",
       "31163        Serve over 1 cup ice.\\n  \n",
       "35030        Serve over 1 cup ice.\\n  \n",
       "35032        Serve over 1 cup ice.\\n  \n",
       "52284                   N/A N/A\\nN/A  \n",
       "55149                 Juice.\\nJuice.  \n",
       "59516                 Juice.\\nJuice.  \n",
       "62417                 Juice.\\nJuice.  \n",
       "65758      method method method....;  \n",
       "67556        Combine nuts and fruit.  \n",
       "68273        kill\\nskin\\npluck\\nboil  \n",
       "68368       Mix together and serve.;  \n",
       "73435   Pour into a highball glass.;  \n",
       "74316        Blend all ingredients.;  \n",
       "74782  Mix all ingredients together.  \n",
       "77551    1\\nsdkfhiashf;hSAFASFASFASS  "
      ]
     },
     "execution_count": 10,
     "metadata": {},
     "output_type": "execute_result"
    }
   ],
   "source": [
    "#Pruning the recipes \n",
    "#Showing index of recipes that have less than 30 characters instructions\n",
    "instr_30less = [index for i, index in zip(recipe_f['instructions'], recipe_f.index) if len(i) < 30]\n",
    "\n",
    "#Taking a look at the recipes \n",
    "instr_30 = recipe_f.iloc[instr_30less]\n",
    "instr_30.head(20)"
   ]
  },
  {
   "cell_type": "code",
   "execution_count": null,
   "metadata": {
    "cell_id": "a215a743867a48ab9b88e2337c3483d2",
    "deepnote_cell_type": "code",
    "deepnote_to_be_reexecuted": false,
    "execution_millis": 194,
    "execution_start": 1710461535873,
    "source_hash": null
   },
   "outputs": [
    {
     "name": "stdout",
     "output_type": "stream",
     "text": [
      "The shape of the recipe dataset is: (122880, 3)\n"
     ]
    }
   ],
   "source": [
    "#Dropping these recipes \n",
    "recipe_f = recipe_f.drop(index = instr_30less).reset_index(drop=True)\n",
    "\n",
    "#checking the shape and the null values \n",
    "print('The shape of the recipe dataset is:', recipe_f.shape)"
   ]
  },
  {
   "cell_type": "code",
   "execution_count": null,
   "metadata": {
    "cell_id": "8f45b3a660584dfb8bc836a0ce72063d",
    "deepnote_cell_type": "code",
    "deepnote_table_loading": false,
    "deepnote_table_state": {
     "filters": [],
     "pageIndex": 1,
     "pageSize": 10,
     "sortBy": []
    },
    "deepnote_to_be_reexecuted": false,
    "execution_millis": 213,
    "execution_start": 1710461535979,
    "source_hash": null
   },
   "outputs": [
    {
     "data": {
      "application/vnd.deepnote.dataframe.v3+json": {
       "column_count": 3,
       "columns": [
        {
         "dtype": "object",
         "name": "title",
         "stats": {
          "categories": [
           {
            "count": 1,
            "name": "Light-and-Crisp Whole-Wheat Bread Crumbs "
           },
           {
            "count": 1,
            "name": "Basic Simple Syrup "
           },
           {
            "count": 23,
            "name": "23 others"
           }
          ],
          "nan_count": 0,
          "unique_count": 25
         }
        },
        {
         "dtype": "object",
         "name": "ingredients",
         "stats": {
          "categories": [
           {
            "count": 1,
            "name": "['4 slices whole-wheat sandwich bread (about 1 ounce each)']"
           },
           {
            "count": 1,
            "name": "['1 cup sugar']"
           },
           {
            "count": 23,
            "name": "23 others"
           }
          ],
          "nan_count": 0,
          "unique_count": 25
         }
        },
        {
         "dtype": "object",
         "name": "instructions",
         "stats": {
          "categories": [
           {
            "count": 1,
            "name": "Preheat the oven to 350°F. Place the bread in a food processor and process until fine crumbs form, 25 to 30 seconds. Place the crumbs on a baking sheet, spreading them evenly. Bake until golden brown, about 12 minutes. Store the bread crumbs in an airtight container for up to 2 weeks.\nPreheat the oven to 350°F.\nPlace the bread in a food processor and process until fine crumbs form, 25 to 30 seconds. Place the crumbs on a baking sheet, spreading them evenly. Bake until golden brown, about 12 minutes. Store the bread crumbs in an airtight container for up to 2 weeks."
           },
           {
            "count": 1,
            "name": "1. Combine the sugar with 1/2 cup water in a small, heavy saucepan and bring to a boil. 2. Boil until the sugar is completely dissolved, about 2 minutes. Pour over the fruit or store for up to 1 month in the refrigerator.\n1. Combine the sugar with 1/2 cup water in a small, heavy saucepan and bring to a boil.\n2. Boil until the sugar is completely dissolved, about 2 minutes. Pour over the fruit or store for up to 1 month in the refrigerator."
           },
           {
            "count": 23,
            "name": "23 others"
           }
          ],
          "nan_count": 0,
          "unique_count": 25
         }
        },
        {
         "dtype": "int64",
         "name": "_deepnote_index_column"
        }
       ],
       "row_count": 25,
       "rows": [
        {
         "_deepnote_index_column": 43503,
         "ingredients": "['1 stick (1/2 cup) unsalted butter, cut into pieces']",
         "instructions": "Line a sieve with 3 layers of cheesecloth and set over a jar. Bring butter to a boil in a small heavy saucepan over medium heat. Once foam completely covers butter, reduce heat to very low and continue to cook, stirring occasionally, until a thin crust begins to form on surface and milky white solids fall to bottom of pan, about 8 minutes. Continue to cook butter, watching closely and stirring occasionally to prevent burning, until milk solids on bottom of pan are light brown and liquid is golden, translucent, and fragrant, about 3 minutes. Remove from heat and strain through cheesecloth-lined sieve into jar.\nLine a sieve with 3 layers of cheesecloth and set over a jar.\nBring butter to a boil in a small heavy saucepan over medium heat. Once foam completely covers butter, reduce heat to very low and continue to cook, stirring occasionally, until a thin crust begins to form on surface and milky white solids fall to bottom of pan, about 8 minutes. Continue to cook butter, watching closel…",
         "title": "Indian Clarified Butter "
        },
        {
         "_deepnote_index_column": 43599,
         "ingredients": "['1 ounce stemmed dried Mexican puya chiles (about 15)']",
         "instructions": "The goal here is to cook the chiles slowly so they get nice and dark but don't burn. Consider opening a window and turning on your stove's exhaust fan. Put the chiles in a wok or pan, turn the heat to high to get the pan hot, then turn the heat down to medium-low to low. Stir the chiles almost constantly moving them around the wok and flipping them occasionally to make sure both sides of the chiles make contact with the hot pan. Keep at it until the chiles are very brittle and very dark brown (nearly black) all over, 15 to 20 minutes. Remove the chiles from the pan as they're finished. Discard any seeds that escape the chiles, because they'll be burnt and bitter. Let the chiles cool. Pound them in a granite mortar to a coarse powder that's only slightly finer than store-bought red pepper flakes, or grind them in a spice grinder (or better yet, pass them twice through a meat grinder, first through a 1/4-inch die and then through an 1/8-inch die). Either way, take care to keep the powde…",
         "title": "Phrik Phon Khua (Toasted-Chile Powder) "
        },
        {
         "_deepnote_index_column": 43752,
         "ingredients": "['3 pounds meaty veal, lamb or pork bones, depending on which you are making, fat trimmed']",
         "instructions": "For the beef, veal, lamb, or pork stock: Heat a heavy kettle or stockpot over medium heat. Add the meat and the bones of whichever meat you are using and cook until well browned all over, turning them now and then. (For the beef stock, add the carrots after meat begins to brown.) Then add 2 gallons of water to the pot, plus all the stock seasonings. Bring to a light boil, then lower to a bare simmer. Cook for 2-3 hours.\nHeat a heavy kettle or stockpot over medium heat. Add the meat and the bones of whichever meat you are using and cook until well browned all over, turning them now and then. (For the beef stock, add the carrots after meat begins to brown.) Then add 2 gallons of water to the pot, plus all the stock seasonings. Bring to a light boil, then lower to a bare simmer. Cook for 2-3 hours.\nFinish for all stocks: 1. As the pot boils, skim any foam that rises to the top. For meat and chicken stocks, also skim off any fat. Cook for the noted time, then strain stocks through the fin…",
         "title": "Stocks "
        },
        {
         "_deepnote_index_column": 44138,
         "ingredients": "['1 cup red lentils']",
         "instructions": "Rinse lentils in cold water; drain. Repeat 2 more times; transfer to a 1-qt. glass jar and add cold water to cover. Secure a layer of cheesecloth or a paper towel over top with a rubber band. Let sit 12 hours. Drain lentils, re-cover, and let sit at room temperature, rinsing and draining 1 or 2 times daily, until sprouted, 1–2 days.\nRinse lentils in cold water; drain. Repeat 2 more times; transfer to a 1-qt. glass jar and add cold water to cover. Secure a layer of cheesecloth or a paper towel over top with a rubber band. Let sit 12 hours.\nDrain lentils, re-cover, and let sit at room temperature, rinsing and draining 1 or 2 times daily, until sprouted, 1–2 days.\nDo Ahead Lentils can be made 5 days ahead. Cover and chill.\nLentils can be made 5 days ahead. Cover and chill.",
         "title": "Sprouted Red Lentils "
        },
        {
         "_deepnote_index_column": 44536,
         "ingredients": "['1 pound whole large shallots in their skins']",
         "instructions": "Preheat oven to 425°F. Rinse 1 pound whole large shallots in their skins and place on a rimmed baking sheet. Roast until skins are deep golden brown and blistered and flesh is very tender throughout, easily yielding when pierced with a knife, 50–60 minutes. Let sit until cool enough to handle. Split open to eat, or slip shallots out of skins to use in vinaigrettes, sauces, or condiments.\nPreheat oven to 425°F. Rinse 1 pound whole large shallots in their skins and place on a rimmed baking sheet. Roast until skins are deep golden brown and blistered and flesh is very tender throughout, easily yielding when pierced with a knife, 50–60 minutes.\nLet sit until cool enough to handle. Split open to eat, or slip shallots out of skins to use in vinaigrettes, sauces, or condiments.",
         "title": "Slow-Roasted Shallots in Skins "
        },
        {
         "_deepnote_index_column": 45727,
         "ingredients": "['1 ounce wakame (dried seaweed)']",
         "instructions": "Place 1 ounce wakame (dried seaweed) in a medium bowl; cover with boiling water and let sit until softened, about 10 minutes. Drain seaweed, squeeze out excess water, and coarsely chop.\nPlace 1 ounce wakame (dried seaweed) in a medium bowl; cover with boiling water and let sit until softened, about 10 minutes. Drain seaweed, squeeze out excess water, and coarsely chop.",
         "title": "Wakame "
        },
        {
         "_deepnote_index_column": 45747,
         "ingredients": "['N/A']",
         "instructions": "Pick over peas and in a saucepan cover with cold water by 2 inches. Bring water to a boil and boil peas 2 minutes. Remove pan from heat. Soak peas 1 hour. Drain peas in a sieve.\nPick over peas and in a saucepan cover with cold water by 2 inches. Bring water to a boil and boil peas 2 minutes. Remove pan from heat. Soak peas 1 hour. Drain peas in a sieve.",
         "title": "To Quick-Soak Dried Black-Eyed Peas "
        },
        {
         "_deepnote_index_column": 46176,
         "ingredients": "['Assorted fresh red chiles']",
         "instructions": "Preheat oven to 150ºF. Arrange chiles in a single layer on a large rimmed baking sheet and roast until thoroughly dried out (they should still be slightly pliable when warm), 12–16 hours.\nPreheat oven to 150ºF. Arrange chiles in a single layer on a large rimmed baking sheet and roast until thoroughly dried out (they should still be slightly pliable when warm), 12–16 hours.\nTo make custom chile flakes, once cool, crush dried chiles in spice grinder or mortar and pestle.\nTo make custom chile flakes, once cool, crush dried chiles in spice grinder or mortar and pestle.\nDo Ahead Dried chiles can be kept indefinitely. Store airtight at room temperature.\nDried chiles can be kept indefinitely. Store airtight at room temperature.",
         "title": "DIY Dried Chiles "
        },
        {
         "_deepnote_index_column": 46463,
         "ingredients": "['1 cup (6 ounces/180 grams) Basic Quinoa or Pilaf-Style Quinoa']",
         "instructions": "1. Cook the quinoa in a large nonstick skillet over medium-high heat, stirring or shaking the pan occasionally, until it is lightly dried out and toasted, about 15 minutes. It will make slight popping sounds as it approaches being done. To best ascertain doneness, scoop out a teaspoon, cool it slightly, and taste it. Touching it directly in the pan will not be a sure test, as the quinoa will be releasing steam. 2. Remove the skillet from the heat. Season the quinoa to taste and serve as a side or proceed with a recipe.\n1. Cook the quinoa in a large nonstick skillet over medium-high heat, stirring or shaking the pan occasionally, until it is lightly dried out and toasted, about 15 minutes. It will make slight popping sounds as it approaches being done. To best ascertain doneness, scoop out a teaspoon, cool it slightly, and taste it. Touching it directly in the pan will not be a sure test, as the quinoa will be releasing steam.\n2. Remove the skillet from the heat. Season the quinoa to t…",
         "title": "Skillet-Toasted Quinoa "
        },
        {
         "_deepnote_index_column": 48109,
         "ingredients": "['2 ounces gin']",
         "instructions": "Combine all ingredients in a mixing glass and stir well. Strain into a large cocktail glass.\nCombine all ingredients in a mixing glass and stir well. Strain into a large cocktail glass.",
         "title": "Jockey Club "
        }
       ]
      },
      "text/html": [
       "<div>\n",
       "<style scoped>\n",
       "    .dataframe tbody tr th:only-of-type {\n",
       "        vertical-align: middle;\n",
       "    }\n",
       "\n",
       "    .dataframe tbody tr th {\n",
       "        vertical-align: top;\n",
       "    }\n",
       "\n",
       "    .dataframe thead th {\n",
       "        text-align: right;\n",
       "    }\n",
       "</style>\n",
       "<table border=\"1\" class=\"dataframe\">\n",
       "  <thead>\n",
       "    <tr style=\"text-align: right;\">\n",
       "      <th></th>\n",
       "      <th>title</th>\n",
       "      <th>ingredients</th>\n",
       "      <th>instructions</th>\n",
       "    </tr>\n",
       "  </thead>\n",
       "  <tbody>\n",
       "    <tr>\n",
       "      <th>40146</th>\n",
       "      <td>Light-and-Crisp Whole-Wheat Bread Crumbs</td>\n",
       "      <td>[4 slices whole-wheat sandwich bread (about 1 ...</td>\n",
       "      <td>Preheat the oven to 350°F. Place the bread in ...</td>\n",
       "    </tr>\n",
       "    <tr>\n",
       "      <th>40301</th>\n",
       "      <td>Basic Simple Syrup</td>\n",
       "      <td>[1 cup sugar]</td>\n",
       "      <td>1. Combine the sugar with 1/2 cup water in a s...</td>\n",
       "    </tr>\n",
       "    <tr>\n",
       "      <th>41174</th>\n",
       "      <td>Grill-Smoked Salmon</td>\n",
       "      <td>[3 whole gutted salmon, each about 2 1/2 pound...</td>\n",
       "      <td>Build a fire in a smoker/grill for indirect he...</td>\n",
       "    </tr>\n",
       "    <tr>\n",
       "      <th>41655</th>\n",
       "      <td>Plain Toasted Croutons</td>\n",
       "      <td>[4 or more thick slices of home-style white br...</td>\n",
       "      <td>Preheat the oven to 350°F. Remove the crusts f...</td>\n",
       "    </tr>\n",
       "    <tr>\n",
       "      <th>41743</th>\n",
       "      <td>Hard-Boiled Eggs</td>\n",
       "      <td>[4 large eggs]</td>\n",
       "      <td>Put eggs into a 1-quart saucepan, then add eno...</td>\n",
       "    </tr>\n",
       "    <tr>\n",
       "      <th>41806</th>\n",
       "      <td>Radish Flowers</td>\n",
       "      <td>[20 small radishes with leafy tops]</td>\n",
       "      <td>Trim radish tops, leaving 2 inches of stems wi...</td>\n",
       "    </tr>\n",
       "    <tr>\n",
       "      <th>41910</th>\n",
       "      <td>To Temper Chocolate</td>\n",
       "      <td>[3 ounces bittersweet or milk chocolate]</td>\n",
       "      <td>Have ready a 3- to 4-quart saucepan and a meta...</td>\n",
       "    </tr>\n",
       "    <tr>\n",
       "      <th>42209</th>\n",
       "      <td>Tempering Chocolate</td>\n",
       "      <td>[Bittersweet, semisweet, milk, or white chocol...</td>\n",
       "      <td>Tempering determines the final gloss, hardness...</td>\n",
       "    </tr>\n",
       "    <tr>\n",
       "      <th>42912</th>\n",
       "      <td>Chocolate Disks and Lace</td>\n",
       "      <td>[8 ounces bittersweet (not unsweetened) or sem...</td>\n",
       "      <td>Line three cookie sheets with waxed paper. Tra...</td>\n",
       "    </tr>\n",
       "    <tr>\n",
       "      <th>43053</th>\n",
       "      <td>Khao Neeo</td>\n",
       "      <td>[3 cups Thai long-grain sticky (glutinous) rice]</td>\n",
       "      <td>In a large bowl (large enough to hold at least...</td>\n",
       "    </tr>\n",
       "    <tr>\n",
       "      <th>43503</th>\n",
       "      <td>Indian Clarified Butter</td>\n",
       "      <td>[1 stick (1/2 cup) unsalted butter, cut into p...</td>\n",
       "      <td>Line a sieve with 3 layers of cheesecloth and ...</td>\n",
       "    </tr>\n",
       "    <tr>\n",
       "      <th>43599</th>\n",
       "      <td>Phrik Phon Khua (Toasted-Chile Powder)</td>\n",
       "      <td>[1 ounce stemmed dried Mexican puya chiles (ab...</td>\n",
       "      <td>The goal here is to cook the chiles slowly so ...</td>\n",
       "    </tr>\n",
       "    <tr>\n",
       "      <th>43752</th>\n",
       "      <td>Stocks</td>\n",
       "      <td>[3 pounds meaty veal, lamb or pork bones, depe...</td>\n",
       "      <td>For the beef, veal, lamb, or pork stock: Heat ...</td>\n",
       "    </tr>\n",
       "    <tr>\n",
       "      <th>44138</th>\n",
       "      <td>Sprouted Red Lentils</td>\n",
       "      <td>[1 cup red lentils]</td>\n",
       "      <td>Rinse lentils in cold water; drain. Repeat 2 m...</td>\n",
       "    </tr>\n",
       "    <tr>\n",
       "      <th>44536</th>\n",
       "      <td>Slow-Roasted Shallots in Skins</td>\n",
       "      <td>[1 pound whole large shallots in their skins]</td>\n",
       "      <td>Preheat oven to 425°F. Rinse 1 pound whole lar...</td>\n",
       "    </tr>\n",
       "    <tr>\n",
       "      <th>45727</th>\n",
       "      <td>Wakame</td>\n",
       "      <td>[1 ounce wakame (dried seaweed)]</td>\n",
       "      <td>Place 1 ounce wakame (dried seaweed) in a medi...</td>\n",
       "    </tr>\n",
       "    <tr>\n",
       "      <th>45747</th>\n",
       "      <td>To Quick-Soak Dried Black-Eyed Peas</td>\n",
       "      <td>[N/A]</td>\n",
       "      <td>Pick over peas and in a saucepan cover with co...</td>\n",
       "    </tr>\n",
       "    <tr>\n",
       "      <th>46176</th>\n",
       "      <td>DIY Dried Chiles</td>\n",
       "      <td>[Assorted fresh red chiles]</td>\n",
       "      <td>Preheat oven to 150ºF. Arrange chiles in a sin...</td>\n",
       "    </tr>\n",
       "    <tr>\n",
       "      <th>46463</th>\n",
       "      <td>Skillet-Toasted Quinoa</td>\n",
       "      <td>[1 cup (6 ounces/180 grams) Basic Quinoa or Pi...</td>\n",
       "      <td>1. Cook the quinoa in a large nonstick skillet...</td>\n",
       "    </tr>\n",
       "    <tr>\n",
       "      <th>48109</th>\n",
       "      <td>Jockey Club</td>\n",
       "      <td>[2 ounces gin]</td>\n",
       "      <td>Combine all ingredients in a mixing glass and ...</td>\n",
       "    </tr>\n",
       "    <tr>\n",
       "      <th>48458</th>\n",
       "      <td>Hachiya Persimmon Purée</td>\n",
       "      <td>[2 lb very ripe Hachiya persimmons]</td>\n",
       "      <td>Discard dried green or brown calyx from persim...</td>\n",
       "    </tr>\n",
       "    <tr>\n",
       "      <th>48485</th>\n",
       "      <td>D.i.y. Drinks Bar</td>\n",
       "      <td>[In bowls, put out diced pineapple, mango, wat...</td>\n",
       "      <td>The Technique 1. Place 2 tablespoons diced fru...</td>\n",
       "    </tr>\n",
       "    <tr>\n",
       "      <th>50452</th>\n",
       "      <td>To Roast Fresh Chestnuts</td>\n",
       "      <td>[Special equipment: a chestnut knife and prote...</td>\n",
       "      <td>Preheat oven to 350°F. Make a large X with a c...</td>\n",
       "    </tr>\n",
       "    <tr>\n",
       "      <th>51407</th>\n",
       "      <td>Khao Plow</td>\n",
       "      <td>[3 cups Thai long-grain jasmine rice (about 1 ...</td>\n",
       "      <td>In a 2 1/2-to-3 quart heavy saucepan with a ti...</td>\n",
       "    </tr>\n",
       "    <tr>\n",
       "      <th>51871</th>\n",
       "      <td>Frico/parmesan Chips</td>\n",
       "      <td>[2 cups domestic Parmesan cheese, processed to...</td>\n",
       "      <td>Heat a nonstick skillet over medium heat. Spri...</td>\n",
       "    </tr>\n",
       "  </tbody>\n",
       "</table>\n",
       "</div>"
      ],
      "text/plain": [
       "                                           title  \\\n",
       "40146  Light-and-Crisp Whole-Wheat Bread Crumbs    \n",
       "40301                        Basic Simple Syrup    \n",
       "41174                       Grill-Smoked Salmon    \n",
       "41655                    Plain Toasted Croutons    \n",
       "41743                          Hard-Boiled Eggs    \n",
       "41806                            Radish Flowers    \n",
       "41910                       To Temper Chocolate    \n",
       "42209                       Tempering Chocolate    \n",
       "42912                  Chocolate Disks and Lace    \n",
       "43053                                 Khao Neeo    \n",
       "43503                   Indian Clarified Butter    \n",
       "43599    Phrik Phon Khua (Toasted-Chile Powder)    \n",
       "43752                                    Stocks    \n",
       "44138                      Sprouted Red Lentils    \n",
       "44536            Slow-Roasted Shallots in Skins    \n",
       "45727                                    Wakame    \n",
       "45747       To Quick-Soak Dried Black-Eyed Peas    \n",
       "46176                          DIY Dried Chiles    \n",
       "46463                    Skillet-Toasted Quinoa    \n",
       "48109                               Jockey Club    \n",
       "48458                   Hachiya Persimmon Purée    \n",
       "48485                         D.i.y. Drinks Bar    \n",
       "50452                  To Roast Fresh Chestnuts    \n",
       "51407                                 Khao Plow    \n",
       "51871                      Frico/parmesan Chips    \n",
       "\n",
       "                                             ingredients  \\\n",
       "40146  [4 slices whole-wheat sandwich bread (about 1 ...   \n",
       "40301                                      [1 cup sugar]   \n",
       "41174  [3 whole gutted salmon, each about 2 1/2 pound...   \n",
       "41655  [4 or more thick slices of home-style white br...   \n",
       "41743                                     [4 large eggs]   \n",
       "41806                [20 small radishes with leafy tops]   \n",
       "41910           [3 ounces bittersweet or milk chocolate]   \n",
       "42209  [Bittersweet, semisweet, milk, or white chocol...   \n",
       "42912  [8 ounces bittersweet (not unsweetened) or sem...   \n",
       "43053   [3 cups Thai long-grain sticky (glutinous) rice]   \n",
       "43503  [1 stick (1/2 cup) unsalted butter, cut into p...   \n",
       "43599  [1 ounce stemmed dried Mexican puya chiles (ab...   \n",
       "43752  [3 pounds meaty veal, lamb or pork bones, depe...   \n",
       "44138                                [1 cup red lentils]   \n",
       "44536      [1 pound whole large shallots in their skins]   \n",
       "45727                   [1 ounce wakame (dried seaweed)]   \n",
       "45747                                              [N/A]   \n",
       "46176                        [Assorted fresh red chiles]   \n",
       "46463  [1 cup (6 ounces/180 grams) Basic Quinoa or Pi...   \n",
       "48109                                     [2 ounces gin]   \n",
       "48458                [2 lb very ripe Hachiya persimmons]   \n",
       "48485  [In bowls, put out diced pineapple, mango, wat...   \n",
       "50452  [Special equipment: a chestnut knife and prote...   \n",
       "51407  [3 cups Thai long-grain jasmine rice (about 1 ...   \n",
       "51871  [2 cups domestic Parmesan cheese, processed to...   \n",
       "\n",
       "                                            instructions  \n",
       "40146  Preheat the oven to 350°F. Place the bread in ...  \n",
       "40301  1. Combine the sugar with 1/2 cup water in a s...  \n",
       "41174  Build a fire in a smoker/grill for indirect he...  \n",
       "41655  Preheat the oven to 350°F. Remove the crusts f...  \n",
       "41743  Put eggs into a 1-quart saucepan, then add eno...  \n",
       "41806  Trim radish tops, leaving 2 inches of stems wi...  \n",
       "41910  Have ready a 3- to 4-quart saucepan and a meta...  \n",
       "42209  Tempering determines the final gloss, hardness...  \n",
       "42912  Line three cookie sheets with waxed paper. Tra...  \n",
       "43053  In a large bowl (large enough to hold at least...  \n",
       "43503  Line a sieve with 3 layers of cheesecloth and ...  \n",
       "43599  The goal here is to cook the chiles slowly so ...  \n",
       "43752  For the beef, veal, lamb, or pork stock: Heat ...  \n",
       "44138  Rinse lentils in cold water; drain. Repeat 2 m...  \n",
       "44536  Preheat oven to 425°F. Rinse 1 pound whole lar...  \n",
       "45727  Place 1 ounce wakame (dried seaweed) in a medi...  \n",
       "45747  Pick over peas and in a saucepan cover with co...  \n",
       "46176  Preheat oven to 150ºF. Arrange chiles in a sin...  \n",
       "46463  1. Cook the quinoa in a large nonstick skillet...  \n",
       "48109  Combine all ingredients in a mixing glass and ...  \n",
       "48458  Discard dried green or brown calyx from persim...  \n",
       "48485  The Technique 1. Place 2 tablespoons diced fru...  \n",
       "50452  Preheat oven to 350°F. Make a large X with a c...  \n",
       "51407  In a 2 1/2-to-3 quart heavy saucepan with a ti...  \n",
       "51871  Heat a nonstick skillet over medium heat. Spri...  "
      ]
     },
     "execution_count": 12,
     "metadata": {},
     "output_type": "execute_result"
    }
   ],
   "source": [
    "#Doing same for ingredients. \n",
    "#Showing index of recipes that have less than 20 characters ingredients\n",
    "ing_20less = [index for i, index in zip(recipe_f['ingredients'], recipe_f.index) if len(i) < 2]\n",
    "\n",
    "#Taking a look at the recipes \n",
    "ing_20 = recipe_f.iloc[ing_20less]\n",
    "ing_20.head(25)\n",
    "\n",
    "#Onl dropping N/A out of the ones because all others might make sense. "
   ]
  },
  {
   "cell_type": "code",
   "execution_count": null,
   "metadata": {
    "cell_id": "4993bf86750248918b9121b73f8ca7a6",
    "deepnote_cell_type": "code",
    "deepnote_to_be_reexecuted": false,
    "execution_millis": 67,
    "execution_start": 1710461536231,
    "source_hash": null
   },
   "outputs": [
    {
     "data": {
      "text/plain": [
       "(122879, 3)"
      ]
     },
     "execution_count": 13,
     "metadata": {},
     "output_type": "execute_result"
    }
   ],
   "source": [
    "recipe_f.iloc[45747]['ingredients']\n",
    "#Dropping it because it has N/A in it's ingredients \n",
    "recipe_f = recipe_f.drop(index=45747, errors='ignore')\n",
    "recipe_f.shape"
   ]
  },
  {
   "cell_type": "markdown",
   "metadata": {
    "cell_id": "a891f4cc46d44b1a8c630b2618843e74",
    "deepnote_cell_type": "text-cell-bullet",
    "formattedRanges": []
   },
   "source": [
    "- We'll remove word Advertisement from the ingredients"
   ]
  },
  {
   "cell_type": "markdown",
   "metadata": {
    "cell_id": "034d14e7fbb34c95b201d56f6bc06438",
    "deepnote_cell_type": "text-cell-bullet",
    "formattedRanges": []
   },
   "source": [
    "- Try to separate ingredients by removing the measurements from the column and make it a cleaner list "
   ]
  },
  {
   "cell_type": "code",
   "execution_count": null,
   "metadata": {
    "cell_id": "10bb397169c04b179b162cdd8fa638fd",
    "deepnote_cell_type": "code",
    "deepnote_to_be_reexecuted": false,
    "execution_millis": 582,
    "execution_start": 1710461536310,
    "source_hash": null
   },
   "outputs": [],
   "source": [
    "#Removing ADVERTISEMENT from ingredients \n",
    "ingredients = []\n",
    "for ing_list in recipe_f['ingredients']:\n",
    "    clean_ings = [ing.replace('ADVERTISEMENT','').strip() for ing in ing_list]\n",
    "    if '' in clean_ings:\n",
    "        clean_ings.remove('')\n",
    "    ingredients.append(clean_ings)\n",
    "recipe_f['ingredients'] = ingredients"
   ]
  },
  {
   "cell_type": "code",
   "execution_count": null,
   "metadata": {
    "cell_id": "5cc95f99090e42bda11958ffbeac4366",
    "deepnote_cell_type": "code",
    "deepnote_to_be_reexecuted": false,
    "execution_millis": 371,
    "execution_start": 1710461536909,
    "source_hash": null
   },
   "outputs": [
    {
     "data": {
      "application/vnd.deepnote.dataframe.v3+json": {
       "column_count": 3,
       "columns": [
        {
         "dtype": "object",
         "name": "title",
         "stats": {
          "categories": [
           {
            "count": 1,
            "name": "Slow Cooker Chicken and Dumplings"
           },
           {
            "count": 1,
            "name": "Awesome Slow Cooker Pot Roast"
           },
           {
            "count": 3,
            "name": "3 others"
           }
          ],
          "nan_count": 0,
          "unique_count": 5
         }
        },
        {
         "dtype": "object",
         "name": "ingredients",
         "stats": {
          "categories": [
           {
            "count": 1,
            "name": "['4 skinless, boneless chicken breast halves', '2 tablespoons butter', '2 (10.75 ounce) cans condensed cream of chicken soup', '1 onion, finely diced', '2 (10 ounce) packages refrigerated biscuit dough, torn into pieces']"
           },
           {
            "count": 1,
            "name": "['2 (10.75 ounce) cans condensed cream of mushroom soup', '1 (1 ounce) package dry onion soup mix', '1 1/4 cups water', '5 1/2 pounds pot roast']"
           },
           {
            "count": 3,
            "name": "3 others"
           }
          ],
          "nan_count": 0,
          "unique_count": 5
         }
        },
        {
         "dtype": "object",
         "name": "instructions",
         "stats": {
          "categories": [
           {
            "count": 1,
            "name": "Place the chicken, butter, soup, and onion in a slow cooker, and fill with enough water to cover.\nCover, and cook for 5 to 6 hours on High. About 30 minutes before serving, place the torn biscuit dough in the slow cooker. Cook until the dough is no longer raw in the center.\n"
           },
           {
            "count": 1,
            "name": "In a slow cooker, mix cream of mushroom soup, dry onion soup mix and water. Place pot roast in slow cooker and coat with soup mixture.\nCook on High setting for 3 to 4 hours, or on Low setting for 8 to 9 hours.\n"
           },
           {
            "count": 3,
            "name": "3 others"
           }
          ],
          "nan_count": 0,
          "unique_count": 5
         }
        },
        {
         "dtype": "int64",
         "name": "_deepnote_index_column"
        }
       ],
       "row_count": 5,
       "rows": [
        {
         "_deepnote_index_column": 0,
         "ingredients": "['4 skinless, boneless chicken breast halves', '2 tablespoons butter', '2 (10.75 ounce) cans condensed cream of chicken soup', '1 onion, finely diced', '2 (10 ounce) packages refrigerated biscuit dough, torn into pieces']",
         "instructions": "Place the chicken, butter, soup, and onion in a slow cooker, and fill with enough water to cover.\nCover, and cook for 5 to 6 hours on High. About 30 minutes before serving, place the torn biscuit dough in the slow cooker. Cook until the dough is no longer raw in the center.\n",
         "title": "Slow Cooker Chicken and Dumplings"
        },
        {
         "_deepnote_index_column": 1,
         "ingredients": "['2 (10.75 ounce) cans condensed cream of mushroom soup', '1 (1 ounce) package dry onion soup mix', '1 1/4 cups water', '5 1/2 pounds pot roast']",
         "instructions": "In a slow cooker, mix cream of mushroom soup, dry onion soup mix and water. Place pot roast in slow cooker and coat with soup mixture.\nCook on High setting for 3 to 4 hours, or on Low setting for 8 to 9 hours.\n",
         "title": "Awesome Slow Cooker Pot Roast"
        },
        {
         "_deepnote_index_column": 2,
         "ingredients": "['1/2 cup packed brown sugar', '1/2 cup ketchup', '1 1/2 pounds lean ground beef', '3/4 cup milk', '2 eggs', '1 1/2 teaspoons salt', '1/4 teaspoon ground black pepper', '1 small onion, chopped', '1/4 teaspoon ground ginger', '3/4 cup finely crushed saltine cracker crumbs']",
         "instructions": "Preheat oven to 350 degrees F (175 degrees C). Lightly grease a 5x9 inch loaf pan.\nPress the brown sugar in the bottom of the prepared loaf pan and spread the ketchup over the sugar.\nIn a mixing bowl, mix thoroughly all remaining ingredients and shape into a loaf. Place on top of the ketchup.\nBake in preheated oven for 1 hour or until juices are clear.\n",
         "title": "Brown Sugar Meatloaf"
        },
        {
         "_deepnote_index_column": 3,
         "ingredients": "['1 cup butter, softened', '1 cup white sugar', '1 cup packed brown sugar', '2 eggs', '2 teaspoons vanilla extract', '3 cups all-purpose flour', '1 teaspoon baking soda', '2 teaspoons hot water', '1/2 teaspoon salt', '2 cups semisweet chocolate chips', '1 cup chopped walnuts']",
         "instructions": "Preheat oven to 350 degrees F (175 degrees C).\nCream together the butter, white sugar, and brown sugar until smooth. Beat in the eggs one at a time, then stir in the vanilla. Dissolve baking soda in hot water. Add to batter along with salt. Stir in flour, chocolate chips, and nuts. Drop by large spoonfuls onto ungreased pans.\nBake for about 10 minutes in the preheated oven, or until edges are nicely browned.\n",
         "title": "Best Chocolate Chip Cookies"
        },
        {
         "_deepnote_index_column": 4,
         "ingredients": "['8 ounces whole wheat rotini pasta', '3 cups fresh broccoli florets', '1 medium onion, chopped', '3 cloves garlic, minced', '4 tablespoons butter, divided', '2 tablespoons all-purpose flour', '1/4 teaspoon salt', '1/8 teaspoon ground black pepper', '2 1/2 cups milk', '8 ounces Cheddar cheese, shredded', '4 ounces reduced-fat cream cheese, cubed and softened', '1/2 cup fine dry Italian-seasoned bread crumbs', 'Reynolds Wrap® Non Stick Aluminum Foil']",
         "instructions": "Preheat oven to 350 degrees F. Line a 2-quart casserole dish with Reynolds Wrap(R) Pan Lining Paper, parchment side up. No need to grease dish.\nCook the pasta in a large saucepan according to the package directions, adding the broccoli for the last 3 minutes of cooking. Drain. Return to the saucepan and set aside.\nCook the onion and garlic in 2 tablespoons hot butter in a large skillet 5 to 7 minutes or until tender. Stir in flour, salt, and black pepper. Add the milk all at once. Cook and stir over medium heat until slightly thickened and bubbly. Add cheddar cheese and cream cheese, stirring until melted. Pour cheese sauce over the pasta and broccoli and stir until well combined.\nMelt the remaining 2 tablespoons butter and mix with the bread crumbs in a small bowl. Transfer the pasta mixture to the prepared casserole dish. Top with the buttery bread crumbs.\nBake, uncovered, about 25 minutes or until bubbly and internal temperature is 165 degrees F. Let stand for 10 minutes before ser…",
         "title": "Homemade Mac and Cheese Casserole"
        }
       ]
      },
      "text/html": [
       "<div>\n",
       "<style scoped>\n",
       "    .dataframe tbody tr th:only-of-type {\n",
       "        vertical-align: middle;\n",
       "    }\n",
       "\n",
       "    .dataframe tbody tr th {\n",
       "        vertical-align: top;\n",
       "    }\n",
       "\n",
       "    .dataframe thead th {\n",
       "        text-align: right;\n",
       "    }\n",
       "</style>\n",
       "<table border=\"1\" class=\"dataframe\">\n",
       "  <thead>\n",
       "    <tr style=\"text-align: right;\">\n",
       "      <th></th>\n",
       "      <th>title</th>\n",
       "      <th>ingredients</th>\n",
       "      <th>instructions</th>\n",
       "    </tr>\n",
       "  </thead>\n",
       "  <tbody>\n",
       "    <tr>\n",
       "      <th>0</th>\n",
       "      <td>Slow Cooker Chicken and Dumplings</td>\n",
       "      <td>[4 skinless, boneless chicken breast halves, 2...</td>\n",
       "      <td>Place the chicken, butter, soup, and onion in ...</td>\n",
       "    </tr>\n",
       "    <tr>\n",
       "      <th>1</th>\n",
       "      <td>Awesome Slow Cooker Pot Roast</td>\n",
       "      <td>[2 (10.75 ounce) cans condensed cream of mushr...</td>\n",
       "      <td>In a slow cooker, mix cream of mushroom soup, ...</td>\n",
       "    </tr>\n",
       "    <tr>\n",
       "      <th>2</th>\n",
       "      <td>Brown Sugar Meatloaf</td>\n",
       "      <td>[1/2 cup packed brown sugar, 1/2 cup ketchup, ...</td>\n",
       "      <td>Preheat oven to 350 degrees F (175 degrees C)....</td>\n",
       "    </tr>\n",
       "    <tr>\n",
       "      <th>3</th>\n",
       "      <td>Best Chocolate Chip Cookies</td>\n",
       "      <td>[1 cup butter, softened, 1 cup white sugar, 1 ...</td>\n",
       "      <td>Preheat oven to 350 degrees F (175 degrees C)....</td>\n",
       "    </tr>\n",
       "    <tr>\n",
       "      <th>4</th>\n",
       "      <td>Homemade Mac and Cheese Casserole</td>\n",
       "      <td>[8 ounces whole wheat rotini pasta, 3 cups fre...</td>\n",
       "      <td>Preheat oven to 350 degrees F. Line a 2-quart ...</td>\n",
       "    </tr>\n",
       "  </tbody>\n",
       "</table>\n",
       "</div>"
      ],
      "text/plain": [
       "                               title  \\\n",
       "0  Slow Cooker Chicken and Dumplings   \n",
       "1      Awesome Slow Cooker Pot Roast   \n",
       "2               Brown Sugar Meatloaf   \n",
       "3        Best Chocolate Chip Cookies   \n",
       "4  Homemade Mac and Cheese Casserole   \n",
       "\n",
       "                                         ingredients  \\\n",
       "0  [4 skinless, boneless chicken breast halves, 2...   \n",
       "1  [2 (10.75 ounce) cans condensed cream of mushr...   \n",
       "2  [1/2 cup packed brown sugar, 1/2 cup ketchup, ...   \n",
       "3  [1 cup butter, softened, 1 cup white sugar, 1 ...   \n",
       "4  [8 ounces whole wheat rotini pasta, 3 cups fre...   \n",
       "\n",
       "                                        instructions  \n",
       "0  Place the chicken, butter, soup, and onion in ...  \n",
       "1  In a slow cooker, mix cream of mushroom soup, ...  \n",
       "2  Preheat oven to 350 degrees F (175 degrees C)....  \n",
       "3  Preheat oven to 350 degrees F (175 degrees C)....  \n",
       "4  Preheat oven to 350 degrees F. Line a 2-quart ...  "
      ]
     },
     "execution_count": 15,
     "metadata": {},
     "output_type": "execute_result"
    }
   ],
   "source": [
    "recipe_f.head()"
   ]
  },
  {
   "cell_type": "code",
   "execution_count": null,
   "metadata": {
    "cell_id": "c89e33982eca4ff2a4f0cf7ccb81ea8e",
    "deepnote_cell_type": "code",
    "deepnote_to_be_reexecuted": false,
    "execution_millis": 482467,
    "execution_start": 1710461560670,
    "source_hash": null
   },
   "outputs": [
    {
     "name": "stderr",
     "output_type": "stream",
     "text": [
      "\n",
      "KeyboardInterrupt\n",
      "\n"
     ]
    }
   ],
   "source": [
    "\n",
    "# Load the pre-trained spaCy model\n",
    "nlp = spacy.load('en_core_web_sm')\n",
    "\n",
    "def clean_ingredients(ingredients):\n",
    "    cleaned_ingredients = []\n",
    "    for ingredient in ingredients:\n",
    "        doc = nlp(ingredient)\n",
    "        food_items = []\n",
    "        for token in doc:\n",
    "            # Skip tokens that are likely to be quantities or measurements\n",
    "            if (token.pos_ not in ['QUANTITY']):\n",
    "                # Collect tokens that could be food items\n",
    "                food_items.append(token.text)\n",
    "        # Attempt to clean up and refine the list of potential food items\n",
    "        food_item_cleaned = ' '.join(food_items)\n",
    "        cleaned_ingredients.append(food_item_cleaned)\n",
    "    return cleaned_ingredients\n",
    "\n",
    "# Assuming df4 is your DataFrame with a column 'ingredients'\n",
    "# Apply the clean_ingredients function to each element of the 'ingredients' column\n",
    "recipe_f['ing_clean'] = recipe_f['ingredients'].apply(clean_ingredients)\n",
    "\n",
    "# Display the DataFrame to verify the changes\n",
    "recipe_f.head()"
   ]
  },
  {
   "cell_type": "markdown",
   "metadata": {
    "cell_id": "9636af1d33564ba4b4f7d6f0793342cb",
    "deepnote_cell_type": "text-cell-h2",
    "formattedRanges": []
   },
   "source": [
    "## 5. Feature Engineering\n",
    "\n",
    "Creating new features from the existing data to enhance the recommendation process. This includes:\n",
    "* Estimating cooking time (if applicable).\n",
    "* Classifying recipes as vegetarian or non-vegetarian.\n",
    "* Identifying the cuisine type.\n",
    "* Calculating the number of ingredients.\n",
    "* Combining relevant text fields (e.g., title + ingredients + instructions) into a single field for easier processing later.\n",
    "\n",
    "*(Mention specific tools used, e.g., \"We use TextBlob for sentiment analysis and attempt to infer cuisine type...\" or \"Transformer models are used for...\")*"
   ]
  },
  {
   "cell_type": "code",
   "execution_count": null,
   "metadata": {
    "cell_id": "167641ac172844e8b55fdf4ee1e9b435",
    "deepnote_cell_type": "code",
    "deepnote_to_be_reexecuted": false,
    "execution_millis": 71,
    "execution_start": 1710462047533,
    "source_hash": null
   },
   "outputs": [],
   "source": [
    "# Counting the number of ingredients used in each recipe\n",
    "recipe_f['ingredient_count'] = [len(ingredients) for ingredients in recipe_f['ingredients']]"
   ]
  },
  {
   "cell_type": "markdown",
   "metadata": {
    "cell_id": "33a4aa1fc1cb417582125e8ed453d359",
    "deepnote_cell_type": "text-cell-h3",
    "formattedRanges": []
   },
   "source": [
    "### Adding cooking times"
   ]
  },
  {
   "cell_type": "code",
   "execution_count": null,
   "metadata": {
    "cell_id": "90d47876f7c24afb922a4586ee076b3f",
    "deepnote_cell_type": "code",
    "deepnote_to_be_reexecuted": false,
    "execution_millis": 12926,
    "execution_start": 1710456601501,
    "source_hash": null
   },
   "outputs": [],
   "source": [
    "#Adding the cooking time \n",
    "def extract_cooking_time(df):\n",
    "    # Initialize the question-answering pipeline\n",
    "    model_name = \"deepset/roberta-base-squad2\"\n",
    "    nlp = pipeline('question-answering', model=model_name, tokenizer=model_name)\n",
    "    \n",
    "    cooking_times = []  # A list to store the cooking times\n",
    "    \n",
    "    for index, row in df.iterrows():\n",
    "        # Format the ingredients list into a string\n",
    "        ingredients_str = ', '.join(row['ingredients'])\n",
    "        \n",
    "        # Prepare the context by combining cooking instructions and ingredients\n",
    "        context = f\"{row['instructions']}.\"\n",
    "        \n",
    "        # Prepare the QA input\n",
    "        QA_input = {\n",
    "            'question': 'How long is the cooking time in minutes?Answer only in minutes. Convert hours into minutes.',\n",
    "            'context': context\n",
    "        }\n",
    "        \n",
    "        # Get predictions\n",
    "        res = nlp(QA_input)\n",
    "        \n",
    "        # Extract the answer (cooking time) and append to the list\n",
    "        cooking_times.append(res['answer'])\n",
    "    \n",
    "    # Add the cooking times as a new column to the DataFrame\n",
    "    df['cooking_time'] = cooking_times\n",
    "    \n",
    "    return df\n",
    "\n",
    "#Adding the cooking times \n",
    "recipe_f = extract_cooking_time(recipe_f)"
   ]
  },
  {
   "cell_type": "code",
   "execution_count": null,
   "metadata": {
    "cell_id": "23f4ffbcf73844d2a19cd4e32b6ead8a",
    "deepnote_cell_type": "code",
    "deepnote_to_be_reexecuted": true,
    "source_hash": null
   },
   "outputs": [],
   "source": [
    "#Converting time into same format\n",
    "import re\n",
    "\n",
    "def time_to_minutes(time_str):\n",
    "    # Dictionary to convert words to numbers\n",
    "    word_to_number = {'one': 1, 'two': 2, 'three': 3, 'four': 4, 'five': 5, 'six': 6, 'seven': 7, 'eight': 8, 'nine': 9, 'ten': 10}\n",
    "    \n",
    "    # Handling textual representation of numbers for hours\n",
    "    for word, number in word_to_number.items():\n",
    "        if word in time_str:\n",
    "            time_str = time_str.replace(word, str(number))\n",
    "            \n",
    "    # Find all numbers in the string\n",
    "    numbers = [int(num) for num in re.findall(r'\\d+', time_str)]\n",
    "    \n",
    "    if 'hour' in time_str or 'hours' in time_str:\n",
    "        # Assume 1 hour if no number is found before \"hour\"\n",
    "        hours = numbers[0] if numbers else 1\n",
    "        return hours * 60  # Convert hours to minutes\n",
    "    elif 'minute' in time_str:\n",
    "        # If it's a range (e.g., \"40 to 60 minutes\"), take the average\n",
    "        if 'to' in time_str and len(numbers) > 1:\n",
    "            return sum(numbers) / len(numbers)\n",
    "        return numbers[0]  # Directly return minutes\n",
    "    else:\n",
    "        # If no time unit is specified or unrecognized, return None or raise an error\n",
    "        return numbers[0]*60\n",
    "\n",
    "\n",
    "recipe_f['cooking_time_min'] = recipe_f['cooking_time'].apply(time_to_minutes)\n",
    "    \n"
   ]
  },
  {
   "cell_type": "markdown",
   "metadata": {
    "cell_id": "66dde698eb954f409f19718915161599",
    "deepnote_cell_type": "text-cell-h3",
    "formattedRanges": []
   },
   "source": [
    "### Adding veg and non-veg as a column"
   ]
  },
  {
   "cell_type": "code",
   "execution_count": null,
   "metadata": {
    "cell_id": "0122f932ed8e44b986ff9c30cadea7bf",
    "deepnote_cell_type": "code",
    "deepnote_to_be_reexecuted": false,
    "execution_millis": 24456,
    "execution_start": 1710462055315,
    "source_hash": null
   },
   "outputs": [],
   "source": [
    "#VEG or NON_VEG\n",
    "non_veg = [\n",
    "    'Beef',\n",
    "    'Pork',\n",
    "    'Lamb',\n",
    "    'Veal',\n",
    "    'Goat',\n",
    "    'Bison',\n",
    "    'Rabbit',\n",
    "    'Chicken',\n",
    "    'Turkey',\n",
    "    'Duck',\n",
    "    'Goose',\n",
    "    'Quail',\n",
    "    'Pheasant',\n",
    "    'Salmon',\n",
    "    'Tuna',\n",
    "    'Cod',\n",
    "    'Trout',\n",
    "    'Mackerel',\n",
    "    'Herring',\n",
    "    'Sardines',\n",
    "    'Shrimp',\n",
    "    'Crab',\n",
    "    'Lobster',\n",
    "    'Oysters',\n",
    "    'Mussels',\n",
    "    'Squid',\n",
    "    'Octopus',\n",
    "    'Gelatin',\n",
    "    'bone', \n",
    "    'skin',\n",
    "    'Lard',\n",
    "    'fat',\n",
    "    'Tallow',\n",
    "    'mutton',\n",
    "    'beef',\n",
    "    'Rennet',\n",
    "    'Fish sauce',\n",
    "    'fish',\n",
    "    'Oyster',\n",
    "    'Oyster sauce',\n",
    "    'Anchovies',\n",
    "    'Caviar',\n",
    "    'snail',\n",
    "    'Escargot',\n",
    "    'Sausage',\n",
    "    'Bacon',\n",
    "    'ham',\n",
    "    'breast',\n",
    "    'thigh',\n",
    "    'turkey',\n",
    "    'meat'\n",
    "]\n",
    "\n",
    "# Assuming 'df4' is your DataFrame and 'ingredients' is a column containing lists of ingredients for each recipe\n",
    "recipe_f['type'] = recipe_f['ingredients'].apply(lambda x: 'non-veg' if any(item.lower() in [ingredient.lower() for ingredient in x] for item in non_veg) else 'veg')\n"
   ]
  },
  {
   "cell_type": "markdown",
   "metadata": {
    "cell_id": "7b451e92b1fc474c9fd7d7807c91e09c",
    "deepnote_cell_type": "text-cell-h2",
    "formattedRanges": []
   },
   "source": [
    "## Adding the final column for corpus"
   ]
  },
  {
   "cell_type": "code",
   "execution_count": null,
   "metadata": {
    "cell_id": "23c56bb85bf44eb1ab617ba038e848dc",
    "deepnote_cell_type": "code",
    "deepnote_to_be_reexecuted": false,
    "execution_millis": 2698,
    "execution_start": 1710462079790,
    "source_hash": null
   },
   "outputs": [],
   "source": [
    "# Define a function to combine the three columns\n",
    "recipe_f['ingredients_str'] = recipe_f['ingredients'].apply(lambda x: ' '.join(x) if isinstance(x, list) else x)\n",
    "recipe_f['instructions_str'] = recipe_f['instructions'].apply(lambda x: ' '.join(x) if isinstance(x, list) else x)\n",
    "def combine_columns(row):\n",
    "  return ' '.join([str(row['title']), str(row['ingredients_str']), str(row['instructions_str'])])\n",
    "\n",
    "# Apply the function to each row of the dataframe\n",
    "recipe_f['Combined'] = recipe_f.apply(combine_columns, axis=1)\n"
   ]
  },
  {
   "cell_type": "code",
   "execution_count": null,
   "metadata": {
    "cell_id": "55125f59c74745348b9428d0f2f586b5",
    "deepnote_cell_type": "code",
    "deepnote_to_be_reexecuted": false,
    "execution_millis": 58,
    "execution_start": 1710462082532,
    "source_hash": null
   },
   "outputs": [],
   "source": [
    "# Clean_text Function\n",
    "import string\n",
    "import re\n",
    "\n",
    "def clean_text(documents):\n",
    "    cleaned_text = []\n",
    "    for doc in documents:\n",
    "        doc = doc.translate(str.maketrans('', '', string.punctuation)) # Remove Punctuation\n",
    "        doc = re.sub(r'\\d+', '', doc) # Remove Digits\n",
    "        doc = doc.replace('\\n',' ') # Remove New Lines\n",
    "        doc = doc.strip() # Remove Leading White Space\n",
    "        doc = re.sub(' +', ' ', doc) # Remove multiple white spaces\n",
    "        cleaned_text.append(doc)\n",
    "    return cleaned_text"
   ]
  },
  {
   "cell_type": "code",
   "execution_count": null,
   "metadata": {
    "cell_id": "13e9105b3a2540088a288068c94bd5f8",
    "deepnote_cell_type": "code",
    "deepnote_to_be_reexecuted": false,
    "execution_millis": 25444,
    "execution_start": 1710462082533,
    "source_hash": null
   },
   "outputs": [],
   "source": [
    "recipe_vec = clean_text(recipe_f['Combined'])"
   ]
  },
  {
   "cell_type": "code",
   "execution_count": null,
   "metadata": {
    "cell_id": "2b6c1f6552bf48c9b1022bed49ccd840",
    "deepnote_cell_type": "code",
    "deepnote_to_be_reexecuted": false,
    "execution_millis": 112,
    "execution_start": 1710462107983,
    "source_hash": null
   },
   "outputs": [
    {
     "data": {
      "text/plain": [
       "'Brown Sugar Meatloaf cup packed brown sugar cup ketchup pounds lean ground beef cup milk eggs teaspoons salt teaspoon ground black pepper small onion chopped teaspoon ground ginger cup finely crushed saltine cracker crumbs Preheat oven to degrees F degrees C Lightly grease a x inch loaf pan Press the brown sugar in the bottom of the prepared loaf pan and spread the ketchup over the sugar In a mixing bowl mix thoroughly all remaining ingredients and shape into a loaf Place on top of the ketchup Bake in preheated oven for hour or until juices are clear'"
      ]
     },
     "execution_count": 24,
     "metadata": {},
     "output_type": "execute_result"
    }
   ],
   "source": [
    "recipe_vec[2]"
   ]
  },
  {
   "cell_type": "markdown",
   "metadata": {},
   "source": [
    "## 6. Save Processed Data\n",
    "\n",
    "Saving the cleaned, enriched, and preprocessed DataFrame to a file. This file will serve as the input for the next stage: building and evaluating the recipe recommendation model."
   ]
  },
  {
   "cell_type": "code",
   "execution_count": null,
   "metadata": {
    "cell_id": "950f4bc9fd374d269ecc67aa3e560de0",
    "deepnote_cell_type": "code",
    "deepnote_to_be_reexecuted": false,
    "execution_millis": 35608,
    "execution_start": 1710462529999,
    "source_hash": null
   },
   "outputs": [],
   "source": [
    "recipe_f.to_csv('recipe_after_addingdataandcleaning.csv', index=False)\n"
   ]
  },
  {
   "cell_type": "markdown",
   "metadata": {
    "created_in_deepnote_cell": true,
    "deepnote_cell_type": "markdown"
   },
   "source": [
    "<a style='text-decoration:none;line-height:16px;display:flex;color:#5B5B62;padding:10px;justify-content:end;' href='https://deepnote.com?utm_source=created-in-deepnote-cell&projectId=5cb9474c-6462-4da0-a2dd-0ed9f5cafe8e' target=\"_blank\">\n",
    "<img alt='Created in deepnote.com' style='display:inline;max-height:16px;margin:0px;margin-right:7.5px;' src='data:image/svg+xml;base64,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' > </img>\n",
    "Created in <span style='font-weight:600;margin-left:4px;'>Deepnote</span></a>"
   ]
  }
 ],
 "metadata": {
  "deepnote_notebook_id": "ff536364cb14419aa40b2467fc4d10b7",
  "language_info": {
   "name": "python"
  }
 },
 "nbformat": 4,
 "nbformat_minor": 0
}
